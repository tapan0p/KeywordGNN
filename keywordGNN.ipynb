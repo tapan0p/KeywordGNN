{
 "cells": [
  {
   "cell_type": "code",
   "execution_count": 3,
   "metadata": {
    "execution": {
     "iopub.execute_input": "2025-05-16T13:49:53.052935Z",
     "iopub.status.busy": "2025-05-16T13:49:53.052586Z",
     "iopub.status.idle": "2025-05-16T13:50:22.148463Z",
     "shell.execute_reply": "2025-05-16T13:50:22.147676Z",
     "shell.execute_reply.started": "2025-05-16T13:49:53.052909Z"
    },
    "trusted": true
   },
   "outputs": [],
   "source": [
    "import pandas as pd\n",
    "import numpy as np\n",
    "from sentence_transformers import SentenceTransformer\n",
    "from sklearn.cluster import DBSCAN\n",
    "from sklearn.cluster import KMeans\n",
    "import seaborn as sns\n",
    "import matplotlib.pyplot as plt\n",
    "from sklearn.metrics import confusion_matrix\n",
    "import spacy\n",
    "import umap\n",
    "\n",
    "# Load the spaCy language model\n",
    "nlp = spacy.load('en_core_web_sm')"
   ]
  },
  {
   "cell_type": "code",
   "execution_count": 2,
   "metadata": {
    "execution": {
     "iopub.execute_input": "2025-05-16T13:48:17.910467Z",
     "iopub.status.busy": "2025-05-16T13:48:17.910128Z",
     "iopub.status.idle": "2025-05-16T13:48:27.424443Z",
     "shell.execute_reply": "2025-05-16T13:48:27.423420Z",
     "shell.execute_reply.started": "2025-05-16T13:48:17.910439Z"
    },
    "trusted": true
   },
   "outputs": [
    {
     "name": "stdout",
     "output_type": "stream",
     "text": [
      "Collecting sentence-transformers\n",
      "  Downloading sentence_transformers-4.1.0-py3-none-any.whl.metadata (13 kB)\n",
      "Requirement already satisfied: transformers<5.0.0,>=4.41.0 in /usr/local/lib/python3.10/dist-packages (from sentence-transformers) (4.44.2)\n",
      "Requirement already satisfied: tqdm in /usr/local/lib/python3.10/dist-packages (from sentence-transformers) (4.66.5)\n",
      "Requirement already satisfied: torch>=1.11.0 in /usr/local/lib/python3.10/dist-packages (from sentence-transformers) (2.4.1+cu121)\n",
      "Requirement already satisfied: scikit-learn in /usr/local/lib/python3.10/dist-packages (from sentence-transformers) (1.2.2)\n",
      "Requirement already satisfied: scipy in /usr/local/lib/python3.10/dist-packages (from sentence-transformers) (1.13.1)\n",
      "Requirement already satisfied: huggingface-hub>=0.20.0 in /usr/local/lib/python3.10/dist-packages (from sentence-transformers) (0.24.7)\n",
      "Requirement already satisfied: Pillow in /usr/local/lib/python3.10/dist-packages (from sentence-transformers) (10.4.0)\n",
      "Requirement already satisfied: typing_extensions>=4.5.0 in /usr/local/lib/python3.10/dist-packages (from sentence-transformers) (4.12.2)\n",
      "Requirement already satisfied: filelock in /usr/local/lib/python3.10/dist-packages (from huggingface-hub>=0.20.0->sentence-transformers) (3.16.1)\n",
      "Requirement already satisfied: fsspec>=2023.5.0 in /usr/local/lib/python3.10/dist-packages (from huggingface-hub>=0.20.0->sentence-transformers) (2024.6.1)\n",
      "Requirement already satisfied: packaging>=20.9 in /usr/local/lib/python3.10/dist-packages (from huggingface-hub>=0.20.0->sentence-transformers) (24.1)\n",
      "Requirement already satisfied: pyyaml>=5.1 in /usr/local/lib/python3.10/dist-packages (from huggingface-hub>=0.20.0->sentence-transformers) (6.0.2)\n",
      "Requirement already satisfied: requests in /usr/local/lib/python3.10/dist-packages (from huggingface-hub>=0.20.0->sentence-transformers) (2.32.3)\n",
      "Requirement already satisfied: sympy in /usr/local/lib/python3.10/dist-packages (from torch>=1.11.0->sentence-transformers) (1.13.3)\n",
      "Requirement already satisfied: networkx in /usr/local/lib/python3.10/dist-packages (from torch>=1.11.0->sentence-transformers) (3.3)\n",
      "Requirement already satisfied: jinja2 in /usr/local/lib/python3.10/dist-packages (from torch>=1.11.0->sentence-transformers) (3.1.4)\n",
      "Requirement already satisfied: numpy>=1.17 in /usr/local/lib/python3.10/dist-packages (from transformers<5.0.0,>=4.41.0->sentence-transformers) (1.26.4)\n",
      "Requirement already satisfied: regex!=2019.12.17 in /usr/local/lib/python3.10/dist-packages (from transformers<5.0.0,>=4.41.0->sentence-transformers) (2024.9.11)\n",
      "Requirement already satisfied: safetensors>=0.4.1 in /usr/local/lib/python3.10/dist-packages (from transformers<5.0.0,>=4.41.0->sentence-transformers) (0.4.5)\n",
      "Requirement already satisfied: tokenizers<0.20,>=0.19 in /usr/local/lib/python3.10/dist-packages (from transformers<5.0.0,>=4.41.0->sentence-transformers) (0.19.1)\n",
      "Requirement already satisfied: joblib>=1.1.1 in /usr/local/lib/python3.10/dist-packages (from scikit-learn->sentence-transformers) (1.4.2)\n",
      "Requirement already satisfied: threadpoolctl>=2.0.0 in /usr/local/lib/python3.10/dist-packages (from scikit-learn->sentence-transformers) (3.5.0)\n",
      "Requirement already satisfied: MarkupSafe>=2.0 in /usr/local/lib/python3.10/dist-packages (from jinja2->torch>=1.11.0->sentence-transformers) (2.1.5)\n",
      "Requirement already satisfied: charset-normalizer<4,>=2 in /usr/local/lib/python3.10/dist-packages (from requests->huggingface-hub>=0.20.0->sentence-transformers) (3.3.2)\n",
      "Requirement already satisfied: idna<4,>=2.5 in /usr/local/lib/python3.10/dist-packages (from requests->huggingface-hub>=0.20.0->sentence-transformers) (3.10)\n",
      "Requirement already satisfied: urllib3<3,>=1.21.1 in /usr/local/lib/python3.10/dist-packages (from requests->huggingface-hub>=0.20.0->sentence-transformers) (2.2.3)\n",
      "Requirement already satisfied: certifi>=2017.4.17 in /usr/local/lib/python3.10/dist-packages (from requests->huggingface-hub>=0.20.0->sentence-transformers) (2024.8.30)\n",
      "Requirement already satisfied: mpmath<1.4,>=1.1.0 in /usr/local/lib/python3.10/dist-packages (from sympy->torch>=1.11.0->sentence-transformers) (1.3.0)\n",
      "Downloading sentence_transformers-4.1.0-py3-none-any.whl (345 kB)\n",
      "\u001b[2K   \u001b[90m━━━━━━━━━━━━━━━━━━━━━━━━━━━━━━━━━━━━━━━━\u001b[0m \u001b[32m345.7/345.7 kB\u001b[0m \u001b[31m18.6 MB/s\u001b[0m eta \u001b[36m0:00:00\u001b[0m\n",
      "\u001b[?25hInstalling collected packages: sentence-transformers\n",
      "Successfully installed sentence-transformers-4.1.0\n",
      "Collecting umap-learn\n",
      "  Downloading umap_learn-0.5.7-py3-none-any.whl.metadata (21 kB)\n",
      "Requirement already satisfied: numpy>=1.17 in /usr/local/lib/python3.10/dist-packages (from umap-learn) (1.26.4)\n",
      "Requirement already satisfied: scipy>=1.3.1 in /usr/local/lib/python3.10/dist-packages (from umap-learn) (1.13.1)\n",
      "Requirement already satisfied: scikit-learn>=0.22 in /usr/local/lib/python3.10/dist-packages (from umap-learn) (1.2.2)\n",
      "Requirement already satisfied: numba>=0.51.2 in /usr/local/lib/python3.10/dist-packages (from umap-learn) (0.60.0)\n",
      "Collecting pynndescent>=0.5 (from umap-learn)\n",
      "  Downloading pynndescent-0.5.13-py3-none-any.whl.metadata (6.8 kB)\n",
      "Requirement already satisfied: tqdm in /usr/local/lib/python3.10/dist-packages (from umap-learn) (4.66.5)\n",
      "Requirement already satisfied: llvmlite<0.44,>=0.43.0dev0 in /usr/local/lib/python3.10/dist-packages (from numba>=0.51.2->umap-learn) (0.43.0)\n",
      "Requirement already satisfied: joblib>=0.11 in /usr/local/lib/python3.10/dist-packages (from pynndescent>=0.5->umap-learn) (1.4.2)\n",
      "Requirement already satisfied: threadpoolctl>=2.0.0 in /usr/local/lib/python3.10/dist-packages (from scikit-learn>=0.22->umap-learn) (3.5.0)\n",
      "Downloading umap_learn-0.5.7-py3-none-any.whl (88 kB)\n",
      "\u001b[2K   \u001b[90m━━━━━━━━━━━━━━━━━━━━━━━━━━━━━━━━━━━━━━━━\u001b[0m \u001b[32m88.8/88.8 kB\u001b[0m \u001b[31m6.1 MB/s\u001b[0m eta \u001b[36m0:00:00\u001b[0m\n",
      "\u001b[?25hDownloading pynndescent-0.5.13-py3-none-any.whl (56 kB)\n",
      "\u001b[2K   \u001b[90m━━━━━━━━━━━━━━━━━━━━━━━━━━━━━━━━━━━━━━━━\u001b[0m \u001b[32m56.9/56.9 kB\u001b[0m \u001b[31m3.5 MB/s\u001b[0m eta \u001b[36m0:00:00\u001b[0m\n",
      "\u001b[?25hInstalling collected packages: pynndescent, umap-learn\n",
      "Successfully installed pynndescent-0.5.13 umap-learn-0.5.7\n"
     ]
    }
   ],
   "source": [
    "!pip install sentence-transformers\n",
    "!pip install umap-learn"
   ]
  },
  {
   "cell_type": "code",
   "execution_count": null,
   "metadata": {
    "execution": {
     "iopub.execute_input": "2025-05-16T13:51:50.007240Z",
     "iopub.status.busy": "2025-05-16T13:51:50.006854Z",
     "iopub.status.idle": "2025-05-16T13:51:50.096759Z",
     "shell.execute_reply": "2025-05-16T13:51:50.096030Z",
     "shell.execute_reply.started": "2025-05-16T13:51:50.007212Z"
    },
    "trusted": true
   },
   "outputs": [
    {
     "data": {
      "text/html": [
       "<div>\n",
       "<style scoped>\n",
       "    .dataframe tbody tr th:only-of-type {\n",
       "        vertical-align: middle;\n",
       "    }\n",
       "\n",
       "    .dataframe tbody tr th {\n",
       "        vertical-align: top;\n",
       "    }\n",
       "\n",
       "    .dataframe thead th {\n",
       "        text-align: right;\n",
       "    }\n",
       "</style>\n",
       "<table border=\"1\" class=\"dataframe\">\n",
       "  <thead>\n",
       "    <tr style=\"text-align: right;\">\n",
       "      <th></th>\n",
       "      <th>tweet</th>\n",
       "      <th>label</th>\n",
       "    </tr>\n",
       "  </thead>\n",
       "  <tbody>\n",
       "    <tr>\n",
       "      <th>0</th>\n",
       "      <td>Sandy be soooo mad that she be shattering our ...</td>\n",
       "      <td>2012_Sandy_Hurricane</td>\n",
       "    </tr>\n",
       "    <tr>\n",
       "      <th>1</th>\n",
       "      <td>Neighborly duties. @Cory_Kennedy arrives to th...</td>\n",
       "      <td>2012_Sandy_Hurricane</td>\n",
       "    </tr>\n",
       "    <tr>\n",
       "      <th>2</th>\n",
       "      <td>I don't know how I'm getting back to Jersey si...</td>\n",
       "      <td>2012_Sandy_Hurricane</td>\n",
       "    </tr>\n",
       "    <tr>\n",
       "      <th>3</th>\n",
       "      <td>Already flooded so much #SANDY @ Hoboken http:...</td>\n",
       "      <td>2012_Sandy_Hurricane</td>\n",
       "    </tr>\n",
       "    <tr>\n",
       "      <th>4</th>\n",
       "      <td>On that note, i pray that everyone stays safe,...</td>\n",
       "      <td>2012_Sandy_Hurricane</td>\n",
       "    </tr>\n",
       "    <tr>\n",
       "      <th>...</th>\n",
       "      <td>...</td>\n",
       "      <td>...</td>\n",
       "    </tr>\n",
       "    <tr>\n",
       "      <th>32457</th>\n",
       "      <td>@danshirley Fertilizer plant explosion late la...</td>\n",
       "      <td>2013_West_Texas_Explosion</td>\n",
       "    </tr>\n",
       "    <tr>\n",
       "      <th>32458</th>\n",
       "      <td>Ok I'm NOT going to put up with people compari...</td>\n",
       "      <td>2013_West_Texas_Explosion</td>\n",
       "    </tr>\n",
       "    <tr>\n",
       "      <th>32459</th>\n",
       "      <td>RT @BGEA: A chaplain just prayed w/man who was...</td>\n",
       "      <td>2013_West_Texas_Explosion</td>\n",
       "    </tr>\n",
       "    <tr>\n",
       "      <th>32460</th>\n",
       "      <td>US: Stil no confirmed deaths from fertilizer p...</td>\n",
       "      <td>2013_West_Texas_Explosion</td>\n",
       "    </tr>\n",
       "    <tr>\n",
       "      <th>32461</th>\n",
       "      <td>RT @LifeAsBros: Thoughts and prayers go out to...</td>\n",
       "      <td>2013_West_Texas_Explosion</td>\n",
       "    </tr>\n",
       "  </tbody>\n",
       "</table>\n",
       "<p>32462 rows × 2 columns</p>\n",
       "</div>"
      ],
      "text/plain": [
       "                                                   tweet  \\\n",
       "0      Sandy be soooo mad that she be shattering our ...   \n",
       "1      Neighborly duties. @Cory_Kennedy arrives to th...   \n",
       "2      I don't know how I'm getting back to Jersey si...   \n",
       "3      Already flooded so much #SANDY @ Hoboken http:...   \n",
       "4      On that note, i pray that everyone stays safe,...   \n",
       "...                                                  ...   \n",
       "32457  @danshirley Fertilizer plant explosion late la...   \n",
       "32458  Ok I'm NOT going to put up with people compari...   \n",
       "32459  RT @BGEA: A chaplain just prayed w/man who was...   \n",
       "32460  US: Stil no confirmed deaths from fertilizer p...   \n",
       "32461  RT @LifeAsBros: Thoughts and prayers go out to...   \n",
       "\n",
       "                           label  \n",
       "0           2012_Sandy_Hurricane  \n",
       "1           2012_Sandy_Hurricane  \n",
       "2           2012_Sandy_Hurricane  \n",
       "3           2012_Sandy_Hurricane  \n",
       "4           2012_Sandy_Hurricane  \n",
       "...                          ...  \n",
       "32457  2013_West_Texas_Explosion  \n",
       "32458  2013_West_Texas_Explosion  \n",
       "32459  2013_West_Texas_Explosion  \n",
       "32460  2013_West_Texas_Explosion  \n",
       "32461  2013_West_Texas_Explosion  \n",
       "\n",
       "[32462 rows x 2 columns]"
      ]
     },
     "execution_count": 5,
     "metadata": {},
     "output_type": "execute_result"
    }
   ],
   "source": [
    "df=pd.read_csv('Dataset\\CRISISTWEET.csv')\n",
    "df=df.drop(columns=['Unnamed: 0'])\n",
    "df"
   ]
  },
  {
   "cell_type": "code",
   "execution_count": 30,
   "metadata": {
    "execution": {
     "iopub.execute_input": "2025-05-16T14:47:00.663382Z",
     "iopub.status.busy": "2025-05-16T14:47:00.663020Z",
     "iopub.status.idle": "2025-05-16T14:47:00.669300Z",
     "shell.execute_reply": "2025-05-16T14:47:00.668356Z",
     "shell.execute_reply.started": "2025-05-16T14:47:00.663354Z"
    },
    "trusted": true
   },
   "outputs": [],
   "source": [
    "def preprocess_text(text):\n",
    "    if pd.isnull(text):\n",
    "        return \"\"\n",
    "    \n",
    "    # List of words to remove\n",
    "    custom_stopwords = {\"pt\",\"de\",\"mr\",\"g\",\"ft\",\"ya\",\"al\",\"ne\",\"dr\",\"hr\",\"v\",\"co\",\"e\",\"au\",\"nw\",\"sw\",\"c\",\"le\",\"ef\",\"fo\",\"se\",\"ll\",\"p\",\"ur\",\"da\",\"nj\",\"ab\",\"bc\",\"nd\",\"mp\",\"yr\",\"rd\",\"ra\",\"f\",\"ny\",\"na\",\"pa\",\"x\",\"b\",\"ht\",\"n\",\"r\",\"h\",\"k\",\"rt\",\"not\",\"m\",\"u\",\"new\",\"go\",\"like\",\"tx\",\"ok\",\"let\",\"s\",\"pm\",\"ve\",\"w\",\"th\",\"st\",\"oh\",\"d\",\"ap\",\"be\",\"mt\"}  # Replace with your actual words\n",
    "    # custom_stopwords = {}\n",
    "    # Process the text with spaCy\n",
    "    doc = nlp(text.lower())\n",
    "    \n",
    "    # Filter out stopwords, punctuation, and custom words, and lemmatize tokens\n",
    "    tokens = [token.lemma_ for token in doc if not token.is_stop and token.is_alpha and token.lemma_ not in custom_stopwords]\n",
    "    \n",
    "    # Reconstruct the cleaned text\n",
    "    return ' '.join(tokens)\n"
   ]
  },
  {
   "cell_type": "code",
   "execution_count": null,
   "metadata": {
    "execution": {
     "iopub.execute_input": "2025-01-27T13:48:39.173720Z",
     "iopub.status.busy": "2025-01-27T13:48:39.173430Z",
     "iopub.status.idle": "2025-01-27T13:48:39.177363Z",
     "shell.execute_reply": "2025-01-27T13:48:39.176644Z",
     "shell.execute_reply.started": "2025-01-27T13:48:39.173699Z"
    },
    "trusted": true
   },
   "outputs": [],
   "source": [
    "import os\n",
    "\n",
    "os.environ[\"HF_TOKEN\"] = \"your-hugging-face-token\""
   ]
  },
  {
   "cell_type": "code",
   "execution_count": 7,
   "metadata": {
    "execution": {
     "iopub.execute_input": "2025-05-16T13:52:02.638453Z",
     "iopub.status.busy": "2025-05-16T13:52:02.638100Z",
     "iopub.status.idle": "2025-05-16T13:54:10.480740Z",
     "shell.execute_reply": "2025-05-16T13:54:10.479831Z",
     "shell.execute_reply.started": "2025-05-16T13:52:02.638412Z"
    },
    "trusted": true
   },
   "outputs": [
    {
     "data": {
      "application/vnd.jupyter.widget-view+json": {
       "model_id": "1e1b806ba5c04850b6351aaed26ec8b3",
       "version_major": 2,
       "version_minor": 0
      },
      "text/plain": [
       "modules.json:   0%|          | 0.00/349 [00:00<?, ?B/s]"
      ]
     },
     "metadata": {},
     "output_type": "display_data"
    },
    {
     "data": {
      "application/vnd.jupyter.widget-view+json": {
       "model_id": "c956f5430fd64145bf580b4ab5696a25",
       "version_major": 2,
       "version_minor": 0
      },
      "text/plain": [
       "config_sentence_transformers.json:   0%|          | 0.00/116 [00:00<?, ?B/s]"
      ]
     },
     "metadata": {},
     "output_type": "display_data"
    },
    {
     "data": {
      "application/vnd.jupyter.widget-view+json": {
       "model_id": "effdcd1f744b43ff82bc7f44a2a7789a",
       "version_major": 2,
       "version_minor": 0
      },
      "text/plain": [
       "README.md:   0%|          | 0.00/10.5k [00:00<?, ?B/s]"
      ]
     },
     "metadata": {},
     "output_type": "display_data"
    },
    {
     "data": {
      "application/vnd.jupyter.widget-view+json": {
       "model_id": "3340e2461ad040fd9224bc0fe751a23e",
       "version_major": 2,
       "version_minor": 0
      },
      "text/plain": [
       "sentence_bert_config.json:   0%|          | 0.00/53.0 [00:00<?, ?B/s]"
      ]
     },
     "metadata": {},
     "output_type": "display_data"
    },
    {
     "data": {
      "application/vnd.jupyter.widget-view+json": {
       "model_id": "d3fe7cfb190f443fac64dd7888fa0ec8",
       "version_major": 2,
       "version_minor": 0
      },
      "text/plain": [
       "config.json:   0%|          | 0.00/612 [00:00<?, ?B/s]"
      ]
     },
     "metadata": {},
     "output_type": "display_data"
    },
    {
     "data": {
      "application/vnd.jupyter.widget-view+json": {
       "model_id": "6ea2af05d80f4f43b2c6d5807d57af92",
       "version_major": 2,
       "version_minor": 0
      },
      "text/plain": [
       "model.safetensors:   0%|          | 0.00/90.9M [00:00<?, ?B/s]"
      ]
     },
     "metadata": {},
     "output_type": "display_data"
    },
    {
     "data": {
      "application/vnd.jupyter.widget-view+json": {
       "model_id": "67f90a388a6a472eadc98e262888a551",
       "version_major": 2,
       "version_minor": 0
      },
      "text/plain": [
       "tokenizer_config.json:   0%|          | 0.00/350 [00:00<?, ?B/s]"
      ]
     },
     "metadata": {},
     "output_type": "display_data"
    },
    {
     "data": {
      "application/vnd.jupyter.widget-view+json": {
       "model_id": "e40f89dc8afe4a64b1cfe4fbad02ae61",
       "version_major": 2,
       "version_minor": 0
      },
      "text/plain": [
       "vocab.txt:   0%|          | 0.00/232k [00:00<?, ?B/s]"
      ]
     },
     "metadata": {},
     "output_type": "display_data"
    },
    {
     "data": {
      "application/vnd.jupyter.widget-view+json": {
       "model_id": "47aa7d2d305f46a3bfc5ec85fc10ea9a",
       "version_major": 2,
       "version_minor": 0
      },
      "text/plain": [
       "tokenizer.json:   0%|          | 0.00/466k [00:00<?, ?B/s]"
      ]
     },
     "metadata": {},
     "output_type": "display_data"
    },
    {
     "data": {
      "application/vnd.jupyter.widget-view+json": {
       "model_id": "1d0a217637094bbea3f9d19fd2a25711",
       "version_major": 2,
       "version_minor": 0
      },
      "text/plain": [
       "special_tokens_map.json:   0%|          | 0.00/112 [00:00<?, ?B/s]"
      ]
     },
     "metadata": {},
     "output_type": "display_data"
    },
    {
     "name": "stderr",
     "output_type": "stream",
     "text": [
      "/usr/local/lib/python3.10/dist-packages/transformers/tokenization_utils_base.py:1601: FutureWarning: `clean_up_tokenization_spaces` was not set. It will be set to `True` by default. This behavior will be depracted in transformers v4.45, and will be then set to `False` by default. For more details check this issue: https://github.com/huggingface/transformers/issues/31884\n",
      "  warnings.warn(\n"
     ]
    },
    {
     "data": {
      "application/vnd.jupyter.widget-view+json": {
       "model_id": "ab7d4ce1cb9a4834a5d24539299c622a",
       "version_major": 2,
       "version_minor": 0
      },
      "text/plain": [
       "config.json:   0%|          | 0.00/190 [00:00<?, ?B/s]"
      ]
     },
     "metadata": {},
     "output_type": "display_data"
    },
    {
     "data": {
      "application/vnd.jupyter.widget-view+json": {
       "model_id": "4128247f9d7540a1b8d1cdb17a43256c",
       "version_major": 2,
       "version_minor": 0
      },
      "text/plain": [
       "modules.json:   0%|          | 0.00/461 [00:00<?, ?B/s]"
      ]
     },
     "metadata": {},
     "output_type": "display_data"
    },
    {
     "data": {
      "application/vnd.jupyter.widget-view+json": {
       "model_id": "754806e5ccf642f49dba505be6f44d62",
       "version_major": 2,
       "version_minor": 0
      },
      "text/plain": [
       "config_sentence_transformers.json:   0%|          | 0.00/122 [00:00<?, ?B/s]"
      ]
     },
     "metadata": {},
     "output_type": "display_data"
    },
    {
     "data": {
      "application/vnd.jupyter.widget-view+json": {
       "model_id": "88c79f74cd0c40d5a1f7d2d302ee8e51",
       "version_major": 2,
       "version_minor": 0
      },
      "text/plain": [
       "README.md:   0%|          | 0.00/1.78k [00:00<?, ?B/s]"
      ]
     },
     "metadata": {},
     "output_type": "display_data"
    },
    {
     "data": {
      "application/vnd.jupyter.widget-view+json": {
       "model_id": "81dfd8762fc044319d92694de37afadb",
       "version_major": 2,
       "version_minor": 0
      },
      "text/plain": [
       "sentence_bert_config.json:   0%|          | 0.00/53.0 [00:00<?, ?B/s]"
      ]
     },
     "metadata": {},
     "output_type": "display_data"
    },
    {
     "data": {
      "application/vnd.jupyter.widget-view+json": {
       "model_id": "48bdea893e0f4d52a74092c237c52c51",
       "version_major": 2,
       "version_minor": 0
      },
      "text/plain": [
       "config.json:   0%|          | 0.00/1.39k [00:00<?, ?B/s]"
      ]
     },
     "metadata": {},
     "output_type": "display_data"
    },
    {
     "data": {
      "application/vnd.jupyter.widget-view+json": {
       "model_id": "bb0d29e2d4694f99b32972b282f45e6d",
       "version_major": 2,
       "version_minor": 0
      },
      "text/plain": [
       "model.safetensors:   0%|          | 0.00/219M [00:00<?, ?B/s]"
      ]
     },
     "metadata": {},
     "output_type": "display_data"
    },
    {
     "data": {
      "application/vnd.jupyter.widget-view+json": {
       "model_id": "00e7ec2950684342a79112a26e33ee6e",
       "version_major": 2,
       "version_minor": 0
      },
      "text/plain": [
       "tokenizer_config.json:   0%|          | 0.00/1.92k [00:00<?, ?B/s]"
      ]
     },
     "metadata": {},
     "output_type": "display_data"
    },
    {
     "data": {
      "application/vnd.jupyter.widget-view+json": {
       "model_id": "2bca528be46e4f1b82c61fb9aece57ca",
       "version_major": 2,
       "version_minor": 0
      },
      "text/plain": [
       "spiece.model:   0%|          | 0.00/792k [00:00<?, ?B/s]"
      ]
     },
     "metadata": {},
     "output_type": "display_data"
    },
    {
     "data": {
      "application/vnd.jupyter.widget-view+json": {
       "model_id": "298ca64f9c1f45219558ddcae7f8dd2b",
       "version_major": 2,
       "version_minor": 0
      },
      "text/plain": [
       "tokenizer.json:   0%|          | 0.00/1.39M [00:00<?, ?B/s]"
      ]
     },
     "metadata": {},
     "output_type": "display_data"
    },
    {
     "data": {
      "application/vnd.jupyter.widget-view+json": {
       "model_id": "b2b5f68682584aedab40656f79be33db",
       "version_major": 2,
       "version_minor": 0
      },
      "text/plain": [
       "special_tokens_map.json:   0%|          | 0.00/1.79k [00:00<?, ?B/s]"
      ]
     },
     "metadata": {},
     "output_type": "display_data"
    },
    {
     "data": {
      "application/vnd.jupyter.widget-view+json": {
       "model_id": "f9861bfd986a4b6f91c9c1c1edf52127",
       "version_major": 2,
       "version_minor": 0
      },
      "text/plain": [
       "config.json:   0%|          | 0.00/190 [00:00<?, ?B/s]"
      ]
     },
     "metadata": {},
     "output_type": "display_data"
    },
    {
     "data": {
      "application/vnd.jupyter.widget-view+json": {
       "model_id": "a1e61c9759314b18ab58257e6add8937",
       "version_major": 2,
       "version_minor": 0
      },
      "text/plain": [
       "rust_model.ot:   0%|          | 0.00/2.36M [00:00<?, ?B/s]"
      ]
     },
     "metadata": {},
     "output_type": "display_data"
    },
    {
     "data": {
      "application/vnd.jupyter.widget-view+json": {
       "model_id": "46015804932341d0b85765844f7be1a9",
       "version_major": 2,
       "version_minor": 0
      },
      "text/plain": [
       "model.safetensors:   0%|          | 0.00/2.36M [00:00<?, ?B/s]"
      ]
     },
     "metadata": {},
     "output_type": "display_data"
    },
    {
     "data": {
      "application/vnd.jupyter.widget-view+json": {
       "model_id": "e7bbe734a4014fe99c1ee1b3273d6e57",
       "version_major": 2,
       "version_minor": 0
      },
      "text/plain": [
       "pytorch_model.bin:   0%|          | 0.00/2.36M [00:00<?, ?B/s]"
      ]
     },
     "metadata": {},
     "output_type": "display_data"
    },
    {
     "data": {
      "application/vnd.jupyter.widget-view+json": {
       "model_id": "bd92e968106a4107a5b5a76dec6f985c",
       "version_major": 2,
       "version_minor": 0
      },
      "text/plain": [
       "config.json:   0%|          | 0.00/115 [00:00<?, ?B/s]"
      ]
     },
     "metadata": {},
     "output_type": "display_data"
    },
    {
     "data": {
      "application/vnd.jupyter.widget-view+json": {
       "model_id": "e226c0bdb60c4371aff0f03ff266c7b8",
       "version_major": 2,
       "version_minor": 0
      },
      "text/plain": [
       "modules.json:   0%|          | 0.00/349 [00:00<?, ?B/s]"
      ]
     },
     "metadata": {},
     "output_type": "display_data"
    },
    {
     "data": {
      "application/vnd.jupyter.widget-view+json": {
       "model_id": "f118bdfc07e947e2b0df18f27444a51e",
       "version_major": 2,
       "version_minor": 0
      },
      "text/plain": [
       "config_sentence_transformers.json:   0%|          | 0.00/116 [00:00<?, ?B/s]"
      ]
     },
     "metadata": {},
     "output_type": "display_data"
    },
    {
     "data": {
      "application/vnd.jupyter.widget-view+json": {
       "model_id": "44c80c4e8c4e4ef0ab5b14817a57695d",
       "version_major": 2,
       "version_minor": 0
      },
      "text/plain": [
       "README.md:   0%|          | 0.00/10.4k [00:00<?, ?B/s]"
      ]
     },
     "metadata": {},
     "output_type": "display_data"
    },
    {
     "data": {
      "application/vnd.jupyter.widget-view+json": {
       "model_id": "d74909c8d0014071b06d8f12a2f0c2dd",
       "version_major": 2,
       "version_minor": 0
      },
      "text/plain": [
       "sentence_bert_config.json:   0%|          | 0.00/53.0 [00:00<?, ?B/s]"
      ]
     },
     "metadata": {},
     "output_type": "display_data"
    },
    {
     "data": {
      "application/vnd.jupyter.widget-view+json": {
       "model_id": "09555a35fa2646eeabb03a57fee6ce26",
       "version_major": 2,
       "version_minor": 0
      },
      "text/plain": [
       "config.json:   0%|          | 0.00/571 [00:00<?, ?B/s]"
      ]
     },
     "metadata": {},
     "output_type": "display_data"
    },
    {
     "data": {
      "application/vnd.jupyter.widget-view+json": {
       "model_id": "d7e5f445b5c74d718ef27454f5af525d",
       "version_major": 2,
       "version_minor": 0
      },
      "text/plain": [
       "model.safetensors:   0%|          | 0.00/438M [00:00<?, ?B/s]"
      ]
     },
     "metadata": {},
     "output_type": "display_data"
    },
    {
     "data": {
      "application/vnd.jupyter.widget-view+json": {
       "model_id": "1e66bfa0d48a43178d150aaae73c8fb2",
       "version_major": 2,
       "version_minor": 0
      },
      "text/plain": [
       "tokenizer_config.json:   0%|          | 0.00/363 [00:00<?, ?B/s]"
      ]
     },
     "metadata": {},
     "output_type": "display_data"
    },
    {
     "data": {
      "application/vnd.jupyter.widget-view+json": {
       "model_id": "db368a4517f745e7b744c15fba7fea96",
       "version_major": 2,
       "version_minor": 0
      },
      "text/plain": [
       "vocab.txt:   0%|          | 0.00/232k [00:00<?, ?B/s]"
      ]
     },
     "metadata": {},
     "output_type": "display_data"
    },
    {
     "data": {
      "application/vnd.jupyter.widget-view+json": {
       "model_id": "e86328c7aa8a444f875335158f614d7f",
       "version_major": 2,
       "version_minor": 0
      },
      "text/plain": [
       "tokenizer.json:   0%|          | 0.00/466k [00:00<?, ?B/s]"
      ]
     },
     "metadata": {},
     "output_type": "display_data"
    },
    {
     "data": {
      "application/vnd.jupyter.widget-view+json": {
       "model_id": "f6c174636e9546e4a0bb1a7e5492bec6",
       "version_major": 2,
       "version_minor": 0
      },
      "text/plain": [
       "special_tokens_map.json:   0%|          | 0.00/239 [00:00<?, ?B/s]"
      ]
     },
     "metadata": {},
     "output_type": "display_data"
    },
    {
     "data": {
      "application/vnd.jupyter.widget-view+json": {
       "model_id": "c066e80585b6422f8594d5039e16a259",
       "version_major": 2,
       "version_minor": 0
      },
      "text/plain": [
       "config.json:   0%|          | 0.00/190 [00:00<?, ?B/s]"
      ]
     },
     "metadata": {},
     "output_type": "display_data"
    },
    {
     "data": {
      "application/vnd.jupyter.widget-view+json": {
       "model_id": "a50bbf27323144ee90b88bfdec085964",
       "version_major": 2,
       "version_minor": 0
      },
      "text/plain": [
       "modules.json:   0%|          | 0.00/461 [00:00<?, ?B/s]"
      ]
     },
     "metadata": {},
     "output_type": "display_data"
    },
    {
     "data": {
      "application/vnd.jupyter.widget-view+json": {
       "model_id": "1f34de09f9e14336b3f343ac5f7c5ca5",
       "version_major": 2,
       "version_minor": 0
      },
      "text/plain": [
       "config_sentence_transformers.json:   0%|          | 0.00/122 [00:00<?, ?B/s]"
      ]
     },
     "metadata": {},
     "output_type": "display_data"
    },
    {
     "data": {
      "application/vnd.jupyter.widget-view+json": {
       "model_id": "1a32f856a7a54484a46465cb04249581",
       "version_major": 2,
       "version_minor": 0
      },
      "text/plain": [
       "README.md:   0%|          | 0.00/2.02k [00:00<?, ?B/s]"
      ]
     },
     "metadata": {},
     "output_type": "display_data"
    },
    {
     "data": {
      "application/vnd.jupyter.widget-view+json": {
       "model_id": "45e43c8b01f54ddaa90866346b97a689",
       "version_major": 2,
       "version_minor": 0
      },
      "text/plain": [
       "sentence_bert_config.json:   0%|          | 0.00/53.0 [00:00<?, ?B/s]"
      ]
     },
     "metadata": {},
     "output_type": "display_data"
    },
    {
     "data": {
      "application/vnd.jupyter.widget-view+json": {
       "model_id": "db38f5249293483cbadc875b4fed0a19",
       "version_major": 2,
       "version_minor": 0
      },
      "text/plain": [
       "config.json:   0%|          | 0.00/804 [00:00<?, ?B/s]"
      ]
     },
     "metadata": {},
     "output_type": "display_data"
    },
    {
     "data": {
      "application/vnd.jupyter.widget-view+json": {
       "model_id": "d665a687f699488394f2069a878edec9",
       "version_major": 2,
       "version_minor": 0
      },
      "text/plain": [
       "model.safetensors:   0%|          | 0.00/1.88G [00:00<?, ?B/s]"
      ]
     },
     "metadata": {},
     "output_type": "display_data"
    },
    {
     "data": {
      "application/vnd.jupyter.widget-view+json": {
       "model_id": "d96583ed60b04c92b14d978125e8f274",
       "version_major": 2,
       "version_minor": 0
      },
      "text/plain": [
       "tokenizer_config.json:   0%|          | 0.00/397 [00:00<?, ?B/s]"
      ]
     },
     "metadata": {},
     "output_type": "display_data"
    },
    {
     "data": {
      "application/vnd.jupyter.widget-view+json": {
       "model_id": "e65a650abed04928871dc94ea81db708",
       "version_major": 2,
       "version_minor": 0
      },
      "text/plain": [
       "vocab.txt:   0%|          | 0.00/5.22M [00:00<?, ?B/s]"
      ]
     },
     "metadata": {},
     "output_type": "display_data"
    },
    {
     "data": {
      "application/vnd.jupyter.widget-view+json": {
       "model_id": "9a480d9092b44abf920af229fbb7a0aa",
       "version_major": 2,
       "version_minor": 0
      },
      "text/plain": [
       "tokenizer.json:   0%|          | 0.00/9.62M [00:00<?, ?B/s]"
      ]
     },
     "metadata": {},
     "output_type": "display_data"
    },
    {
     "data": {
      "application/vnd.jupyter.widget-view+json": {
       "model_id": "87c3bcedb1354df7ae3a111920215973",
       "version_major": 2,
       "version_minor": 0
      },
      "text/plain": [
       "special_tokens_map.json:   0%|          | 0.00/112 [00:00<?, ?B/s]"
      ]
     },
     "metadata": {},
     "output_type": "display_data"
    },
    {
     "data": {
      "application/vnd.jupyter.widget-view+json": {
       "model_id": "bd56a190239a4f6187cf25d03fd44862",
       "version_major": 2,
       "version_minor": 0
      },
      "text/plain": [
       "config.json:   0%|          | 0.00/190 [00:00<?, ?B/s]"
      ]
     },
     "metadata": {},
     "output_type": "display_data"
    },
    {
     "data": {
      "application/vnd.jupyter.widget-view+json": {
       "model_id": "1d7ba74f80954f7fa6227eacd552d11e",
       "version_major": 2,
       "version_minor": 0
      },
      "text/plain": [
       "model.safetensors:   0%|          | 0.00/2.36M [00:00<?, ?B/s]"
      ]
     },
     "metadata": {},
     "output_type": "display_data"
    },
    {
     "data": {
      "application/vnd.jupyter.widget-view+json": {
       "model_id": "e051c50e4e8b4cceaa242d8108e431af",
       "version_major": 2,
       "version_minor": 0
      },
      "text/plain": [
       "config.json:   0%|          | 0.00/114 [00:00<?, ?B/s]"
      ]
     },
     "metadata": {},
     "output_type": "display_data"
    },
    {
     "data": {
      "application/vnd.jupyter.widget-view+json": {
       "model_id": "70c979ea8a16434994d72c522bf42cc1",
       "version_major": 2,
       "version_minor": 0
      },
      "text/plain": [
       "pytorch_model.bin:   0%|          | 0.00/2.36M [00:00<?, ?B/s]"
      ]
     },
     "metadata": {},
     "output_type": "display_data"
    },
    {
     "data": {
      "application/vnd.jupyter.widget-view+json": {
       "model_id": "1d80b88055e84549982191e7974f535c",
       "version_major": 2,
       "version_minor": 0
      },
      "text/plain": [
       "modules.json:   0%|          | 0.00/341 [00:00<?, ?B/s]"
      ]
     },
     "metadata": {},
     "output_type": "display_data"
    },
    {
     "data": {
      "application/vnd.jupyter.widget-view+json": {
       "model_id": "a15ff063198e46acbe8546f6dbb28180",
       "version_major": 2,
       "version_minor": 0
      },
      "text/plain": [
       "config_sentence_transformers.json:   0%|          | 0.00/122 [00:00<?, ?B/s]"
      ]
     },
     "metadata": {},
     "output_type": "display_data"
    },
    {
     "data": {
      "application/vnd.jupyter.widget-view+json": {
       "model_id": "ad24ce0f8f8149febba5b2bc96375022",
       "version_major": 2,
       "version_minor": 0
      },
      "text/plain": [
       "README.md:   0%|          | 0.00/2.46k [00:00<?, ?B/s]"
      ]
     },
     "metadata": {},
     "output_type": "display_data"
    },
    {
     "data": {
      "application/vnd.jupyter.widget-view+json": {
       "model_id": "bd2ab7a8fdb54b4596e4cf47cbd89248",
       "version_major": 2,
       "version_minor": 0
      },
      "text/plain": [
       "sentence_bert_config.json:   0%|          | 0.00/53.0 [00:00<?, ?B/s]"
      ]
     },
     "metadata": {},
     "output_type": "display_data"
    },
    {
     "data": {
      "application/vnd.jupyter.widget-view+json": {
       "model_id": "42960b27bfcb45d1b3d7f8cda1d0fab1",
       "version_major": 2,
       "version_minor": 0
      },
      "text/plain": [
       "config.json:   0%|          | 0.00/610 [00:00<?, ?B/s]"
      ]
     },
     "metadata": {},
     "output_type": "display_data"
    },
    {
     "data": {
      "application/vnd.jupyter.widget-view+json": {
       "model_id": "68284ed266684debac7dc8f9ed42b6d2",
       "version_major": 2,
       "version_minor": 0
      },
      "text/plain": [
       "model.safetensors:   0%|          | 0.00/539M [00:00<?, ?B/s]"
      ]
     },
     "metadata": {},
     "output_type": "display_data"
    },
    {
     "data": {
      "application/vnd.jupyter.widget-view+json": {
       "model_id": "0c1f4592fa4a48b39c506c49246cde12",
       "version_major": 2,
       "version_minor": 0
      },
      "text/plain": [
       "tokenizer_config.json:   0%|          | 0.00/531 [00:00<?, ?B/s]"
      ]
     },
     "metadata": {},
     "output_type": "display_data"
    },
    {
     "data": {
      "application/vnd.jupyter.widget-view+json": {
       "model_id": "abe161034a064c68a0e1d91e8a7491bd",
       "version_major": 2,
       "version_minor": 0
      },
      "text/plain": [
       "vocab.txt:   0%|          | 0.00/996k [00:00<?, ?B/s]"
      ]
     },
     "metadata": {},
     "output_type": "display_data"
    },
    {
     "data": {
      "application/vnd.jupyter.widget-view+json": {
       "model_id": "1e50e0108ad3490ea0535a5e8f321883",
       "version_major": 2,
       "version_minor": 0
      },
      "text/plain": [
       "tokenizer.json:   0%|          | 0.00/1.96M [00:00<?, ?B/s]"
      ]
     },
     "metadata": {},
     "output_type": "display_data"
    },
    {
     "data": {
      "application/vnd.jupyter.widget-view+json": {
       "model_id": "3e265cf0c4b24739bdbe113d7cb6b4ac",
       "version_major": 2,
       "version_minor": 0
      },
      "text/plain": [
       "special_tokens_map.json:   0%|          | 0.00/112 [00:00<?, ?B/s]"
      ]
     },
     "metadata": {},
     "output_type": "display_data"
    },
    {
     "data": {
      "application/vnd.jupyter.widget-view+json": {
       "model_id": "fefebb1bcf1246b7a2eee9da4998a515",
       "version_major": 2,
       "version_minor": 0
      },
      "text/plain": [
       "config.json:   0%|          | 0.00/190 [00:00<?, ?B/s]"
      ]
     },
     "metadata": {},
     "output_type": "display_data"
    },
    {
     "data": {
      "application/vnd.jupyter.widget-view+json": {
       "model_id": "e5a350372a124b8dbebe9b04c064ae29",
       "version_major": 2,
       "version_minor": 0
      },
      "text/plain": [
       "pytorch_model.bin:   0%|          | 0.00/1.58M [00:00<?, ?B/s]"
      ]
     },
     "metadata": {},
     "output_type": "display_data"
    },
    {
     "data": {
      "application/vnd.jupyter.widget-view+json": {
       "model_id": "ff9b9cbd13ff4db399bbc41b485233bb",
       "version_major": 2,
       "version_minor": 0
      },
      "text/plain": [
       "model.safetensors:   0%|          | 0.00/1.58M [00:00<?, ?B/s]"
      ]
     },
     "metadata": {},
     "output_type": "display_data"
    },
    {
     "data": {
      "application/vnd.jupyter.widget-view+json": {
       "model_id": "b25e575b8cec4a4c9758df41d3d6ab8f",
       "version_major": 2,
       "version_minor": 0
      },
      "text/plain": [
       "config.json:   0%|          | 0.00/114 [00:00<?, ?B/s]"
      ]
     },
     "metadata": {},
     "output_type": "display_data"
    }
   ],
   "source": [
    "model1 = SentenceTransformer('sentence-transformers/all-MiniLM-L6-v2',device=0)\n",
    "model2 = SentenceTransformer('sentence-transformers/sentence-t5-base',device=0)\n",
    "model3 = SentenceTransformer('sentence-transformers/all-mpnet-base-v2',device=0)\n",
    "model4 = SentenceTransformer('sentence-transformers/LaBSE',device=0)\n",
    "model5 = SentenceTransformer('sentence-transformers/distiluse-base-multilingual-cased-v2',device=0)"
   ]
  },
  {
   "cell_type": "code",
   "execution_count": 8,
   "metadata": {
    "execution": {
     "iopub.execute_input": "2025-05-16T13:54:46.756605Z",
     "iopub.status.busy": "2025-05-16T13:54:46.756270Z",
     "iopub.status.idle": "2025-05-16T13:58:02.811225Z",
     "shell.execute_reply": "2025-05-16T13:58:02.810302Z",
     "shell.execute_reply.started": "2025-05-16T13:54:46.756583Z"
    },
    "trusted": true
   },
   "outputs": [
    {
     "data": {
      "application/vnd.jupyter.widget-view+json": {
       "model_id": "feecc0e01c6649eb8d8dd5343df7e478",
       "version_major": 2,
       "version_minor": 0
      },
      "text/plain": [
       "Batches:   0%|          | 0/1015 [00:00<?, ?it/s]"
      ]
     },
     "metadata": {},
     "output_type": "display_data"
    },
    {
     "data": {
      "application/vnd.jupyter.widget-view+json": {
       "model_id": "5368862254434c23bddd08c0aacca168",
       "version_major": 2,
       "version_minor": 0
      },
      "text/plain": [
       "Batches:   0%|          | 0/1015 [00:00<?, ?it/s]"
      ]
     },
     "metadata": {},
     "output_type": "display_data"
    },
    {
     "data": {
      "application/vnd.jupyter.widget-view+json": {
       "model_id": "a16b9bc10c604fcc85e40600048f0b50",
       "version_major": 2,
       "version_minor": 0
      },
      "text/plain": [
       "Batches:   0%|          | 0/1015 [00:00<?, ?it/s]"
      ]
     },
     "metadata": {},
     "output_type": "display_data"
    },
    {
     "data": {
      "application/vnd.jupyter.widget-view+json": {
       "model_id": "aa28065c9dfa4b3ebb24775e6c53abc5",
       "version_major": 2,
       "version_minor": 0
      },
      "text/plain": [
       "Batches:   0%|          | 0/1015 [00:00<?, ?it/s]"
      ]
     },
     "metadata": {},
     "output_type": "display_data"
    },
    {
     "data": {
      "application/vnd.jupyter.widget-view+json": {
       "model_id": "f4126a2d4b834ee0a4ffcb5b0110fb01",
       "version_major": 2,
       "version_minor": 0
      },
      "text/plain": [
       "Batches:   0%|          | 0/1015 [00:00<?, ?it/s]"
      ]
     },
     "metadata": {},
     "output_type": "display_data"
    }
   ],
   "source": [
    "embeddings1 = model1.encode(df['tweet'].tolist())\n",
    "embeddings2 = model2.encode(df['tweet'].tolist())\n",
    "embeddings3 = model3.encode(df['tweet'].tolist())\n",
    "embeddings4 = model4.encode(df['tweet'].tolist())\n",
    "embeddings5 = model5.encode(df['tweet'].tolist())"
   ]
  },
  {
   "cell_type": "code",
   "execution_count": 6,
   "metadata": {
    "execution": {
     "iopub.execute_input": "2025-05-05T14:03:00.094958Z",
     "iopub.status.busy": "2025-05-05T14:03:00.094601Z",
     "iopub.status.idle": "2025-05-05T14:03:00.098738Z",
     "shell.execute_reply": "2025-05-05T14:03:00.098101Z",
     "shell.execute_reply.started": "2025-05-05T14:03:00.094927Z"
    },
    "trusted": true
   },
   "outputs": [],
   "source": [
    "import umap"
   ]
  },
  {
   "cell_type": "code",
   "execution_count": 9,
   "metadata": {
    "execution": {
     "iopub.execute_input": "2025-05-16T13:58:02.812899Z",
     "iopub.status.busy": "2025-05-16T13:58:02.812580Z",
     "iopub.status.idle": "2025-05-16T14:06:04.738829Z",
     "shell.execute_reply": "2025-05-16T14:06:04.738036Z",
     "shell.execute_reply.started": "2025-05-16T13:58:02.812864Z"
    },
    "trusted": true
   },
   "outputs": [
    {
     "name": "stderr",
     "output_type": "stream",
     "text": [
      "/usr/local/lib/python3.10/dist-packages/umap/umap_.py:1952: UserWarning: n_jobs value 1 overridden to 1 by setting random_state. Use no seed for parallelism.\n",
      "  warn(\n"
     ]
    }
   ],
   "source": [
    "\n",
    "umap_reducer = umap.UMAP(n_components=30, random_state=42)\n",
    "reduced_embeddings1 = umap_reducer.fit_transform(embeddings1)\n",
    "reduced_embeddings2 = umap_reducer.fit_transform(embeddings2)\n",
    "reduced_embeddings3 = umap_reducer.fit_transform(embeddings3)\n",
    "reduced_embeddings4 = umap_reducer.fit_transform(embeddings4)\n",
    "reduced_embeddings5 = umap_reducer.fit_transform(embeddings5)"
   ]
  },
  {
   "cell_type": "code",
   "execution_count": 10,
   "metadata": {
    "execution": {
     "iopub.execute_input": "2025-05-16T14:26:51.437099Z",
     "iopub.status.busy": "2025-05-16T14:26:51.436535Z",
     "iopub.status.idle": "2025-05-16T14:26:51.448484Z",
     "shell.execute_reply": "2025-05-16T14:26:51.447685Z",
     "shell.execute_reply.started": "2025-05-16T14:26:51.437021Z"
    },
    "trusted": true
   },
   "outputs": [
    {
     "data": {
      "text/html": [
       "<div>\n",
       "<style scoped>\n",
       "    .dataframe tbody tr th:only-of-type {\n",
       "        vertical-align: middle;\n",
       "    }\n",
       "\n",
       "    .dataframe tbody tr th {\n",
       "        vertical-align: top;\n",
       "    }\n",
       "\n",
       "    .dataframe thead th {\n",
       "        text-align: right;\n",
       "    }\n",
       "</style>\n",
       "<table border=\"1\" class=\"dataframe\">\n",
       "  <thead>\n",
       "    <tr style=\"text-align: right;\">\n",
       "      <th></th>\n",
       "      <th>tweet</th>\n",
       "      <th>label</th>\n",
       "    </tr>\n",
       "  </thead>\n",
       "  <tbody>\n",
       "    <tr>\n",
       "      <th>0</th>\n",
       "      <td>Sandy be soooo mad that she be shattering our ...</td>\n",
       "      <td>2012_Sandy_Hurricane</td>\n",
       "    </tr>\n",
       "    <tr>\n",
       "      <th>1</th>\n",
       "      <td>Neighborly duties. @Cory_Kennedy arrives to th...</td>\n",
       "      <td>2012_Sandy_Hurricane</td>\n",
       "    </tr>\n",
       "    <tr>\n",
       "      <th>2</th>\n",
       "      <td>I don't know how I'm getting back to Jersey si...</td>\n",
       "      <td>2012_Sandy_Hurricane</td>\n",
       "    </tr>\n",
       "    <tr>\n",
       "      <th>3</th>\n",
       "      <td>Already flooded so much #SANDY @ Hoboken http:...</td>\n",
       "      <td>2012_Sandy_Hurricane</td>\n",
       "    </tr>\n",
       "    <tr>\n",
       "      <th>4</th>\n",
       "      <td>On that note, i pray that everyone stays safe,...</td>\n",
       "      <td>2012_Sandy_Hurricane</td>\n",
       "    </tr>\n",
       "    <tr>\n",
       "      <th>...</th>\n",
       "      <td>...</td>\n",
       "      <td>...</td>\n",
       "    </tr>\n",
       "    <tr>\n",
       "      <th>32457</th>\n",
       "      <td>@danshirley Fertilizer plant explosion late la...</td>\n",
       "      <td>2013_West_Texas_Explosion</td>\n",
       "    </tr>\n",
       "    <tr>\n",
       "      <th>32458</th>\n",
       "      <td>Ok I'm NOT going to put up with people compari...</td>\n",
       "      <td>2013_West_Texas_Explosion</td>\n",
       "    </tr>\n",
       "    <tr>\n",
       "      <th>32459</th>\n",
       "      <td>RT @BGEA: A chaplain just prayed w/man who was...</td>\n",
       "      <td>2013_West_Texas_Explosion</td>\n",
       "    </tr>\n",
       "    <tr>\n",
       "      <th>32460</th>\n",
       "      <td>US: Stil no confirmed deaths from fertilizer p...</td>\n",
       "      <td>2013_West_Texas_Explosion</td>\n",
       "    </tr>\n",
       "    <tr>\n",
       "      <th>32461</th>\n",
       "      <td>RT @LifeAsBros: Thoughts and prayers go out to...</td>\n",
       "      <td>2013_West_Texas_Explosion</td>\n",
       "    </tr>\n",
       "  </tbody>\n",
       "</table>\n",
       "<p>32462 rows × 2 columns</p>\n",
       "</div>"
      ],
      "text/plain": [
       "                                                   tweet  \\\n",
       "0      Sandy be soooo mad that she be shattering our ...   \n",
       "1      Neighborly duties. @Cory_Kennedy arrives to th...   \n",
       "2      I don't know how I'm getting back to Jersey si...   \n",
       "3      Already flooded so much #SANDY @ Hoboken http:...   \n",
       "4      On that note, i pray that everyone stays safe,...   \n",
       "...                                                  ...   \n",
       "32457  @danshirley Fertilizer plant explosion late la...   \n",
       "32458  Ok I'm NOT going to put up with people compari...   \n",
       "32459  RT @BGEA: A chaplain just prayed w/man who was...   \n",
       "32460  US: Stil no confirmed deaths from fertilizer p...   \n",
       "32461  RT @LifeAsBros: Thoughts and prayers go out to...   \n",
       "\n",
       "                           label  \n",
       "0           2012_Sandy_Hurricane  \n",
       "1           2012_Sandy_Hurricane  \n",
       "2           2012_Sandy_Hurricane  \n",
       "3           2012_Sandy_Hurricane  \n",
       "4           2012_Sandy_Hurricane  \n",
       "...                          ...  \n",
       "32457  2013_West_Texas_Explosion  \n",
       "32458  2013_West_Texas_Explosion  \n",
       "32459  2013_West_Texas_Explosion  \n",
       "32460  2013_West_Texas_Explosion  \n",
       "32461  2013_West_Texas_Explosion  \n",
       "\n",
       "[32462 rows x 2 columns]"
      ]
     },
     "execution_count": 10,
     "metadata": {},
     "output_type": "execute_result"
    }
   ],
   "source": [
    "df"
   ]
  },
  {
   "cell_type": "code",
   "execution_count": 11,
   "metadata": {
    "execution": {
     "iopub.execute_input": "2025-05-16T14:26:54.369673Z",
     "iopub.status.busy": "2025-05-16T14:26:54.369355Z",
     "iopub.status.idle": "2025-05-16T14:26:54.373450Z",
     "shell.execute_reply": "2025-05-16T14:26:54.372609Z",
     "shell.execute_reply.started": "2025-05-16T14:26:54.369637Z"
    },
    "trusted": true
   },
   "outputs": [],
   "source": [
    "from sklearn.cluster import KMeans"
   ]
  },
  {
   "cell_type": "code",
   "execution_count": 12,
   "metadata": {
    "execution": {
     "iopub.execute_input": "2025-05-16T14:26:57.479238Z",
     "iopub.status.busy": "2025-05-16T14:26:57.478876Z",
     "iopub.status.idle": "2025-05-16T14:27:03.058631Z",
     "shell.execute_reply": "2025-05-16T14:27:03.057131Z",
     "shell.execute_reply.started": "2025-05-16T14:26:57.479210Z"
    },
    "trusted": true
   },
   "outputs": [
    {
     "name": "stderr",
     "output_type": "stream",
     "text": [
      "/usr/local/lib/python3.10/dist-packages/sklearn/cluster/_kmeans.py:870: FutureWarning: The default value of `n_init` will change from 10 to 'auto' in 1.4. Set the value of `n_init` explicitly to suppress the warning\n",
      "  warnings.warn(\n",
      "/usr/local/lib/python3.10/dist-packages/sklearn/cluster/_kmeans.py:870: FutureWarning: The default value of `n_init` will change from 10 to 'auto' in 1.4. Set the value of `n_init` explicitly to suppress the warning\n",
      "  warnings.warn(\n",
      "/usr/local/lib/python3.10/dist-packages/sklearn/cluster/_kmeans.py:870: FutureWarning: The default value of `n_init` will change from 10 to 'auto' in 1.4. Set the value of `n_init` explicitly to suppress the warning\n",
      "  warnings.warn(\n",
      "/usr/local/lib/python3.10/dist-packages/sklearn/cluster/_kmeans.py:870: FutureWarning: The default value of `n_init` will change from 10 to 'auto' in 1.4. Set the value of `n_init` explicitly to suppress the warning\n",
      "  warnings.warn(\n",
      "/usr/local/lib/python3.10/dist-packages/sklearn/cluster/_kmeans.py:870: FutureWarning: The default value of `n_init` will change from 10 to 'auto' in 1.4. Set the value of `n_init` explicitly to suppress the warning\n",
      "  warnings.warn(\n"
     ]
    }
   ],
   "source": [
    "num_tweets = len(df)\n",
    "k=6\n",
    "kmeans_llm1 = KMeans(n_clusters=k,random_state=42).fit(reduced_embeddings1)\n",
    "kmeans_llm2 = KMeans(n_clusters=k,random_state=42).fit(reduced_embeddings2)\n",
    "kmeans_llm3 = KMeans(n_clusters=k,random_state=42).fit(reduced_embeddings3)\n",
    "kmeans_llm4 = KMeans(n_clusters=k,random_state=42).fit(reduced_embeddings4)\n",
    "kmeans_llm5 = KMeans(n_clusters=k,random_state=42).fit(reduced_embeddings5)"
   ]
  },
  {
   "cell_type": "code",
   "execution_count": 17,
   "metadata": {
    "execution": {
     "iopub.execute_input": "2025-05-16T14:30:15.003302Z",
     "iopub.status.busy": "2025-05-16T14:30:15.003057Z",
     "iopub.status.idle": "2025-05-16T14:30:15.007166Z",
     "shell.execute_reply": "2025-05-16T14:30:15.006421Z",
     "shell.execute_reply.started": "2025-05-16T14:30:15.003274Z"
    },
    "trusted": true
   },
   "outputs": [],
   "source": [
    "labels_llm1 = kmeans_llm1.labels_\n",
    "labels_llm2 = kmeans_llm2.labels_\n",
    "labels_llm3 = kmeans_llm3.labels_\n",
    "labels_llm4 = kmeans_llm4.labels_\n",
    "labels_llm5 = kmeans_llm5.labels_"
   ]
  },
  {
   "cell_type": "code",
   "execution_count": 19,
   "metadata": {
    "execution": {
     "iopub.execute_input": "2025-05-16T14:30:22.838454Z",
     "iopub.status.busy": "2025-05-16T14:30:22.838116Z",
     "iopub.status.idle": "2025-05-16T14:30:22.842508Z",
     "shell.execute_reply": "2025-05-16T14:30:22.841621Z",
     "shell.execute_reply.started": "2025-05-16T14:30:22.838428Z"
    },
    "trusted": true
   },
   "outputs": [],
   "source": [
    "def expand_labels(labels):\n",
    "    return (labels[:, None] == labels[None, :]).astype(int)"
   ]
  },
  {
   "cell_type": "code",
   "execution_count": 20,
   "metadata": {
    "execution": {
     "iopub.execute_input": "2025-05-16T14:30:26.361865Z",
     "iopub.status.busy": "2025-05-16T14:30:26.361526Z",
     "iopub.status.idle": "2025-05-16T14:30:50.950322Z",
     "shell.execute_reply": "2025-05-16T14:30:50.949505Z",
     "shell.execute_reply.started": "2025-05-16T14:30:26.361834Z"
    },
    "trusted": true
   },
   "outputs": [],
   "source": [
    "co_association = (\n",
    "    expand_labels(labels_llm1) + \n",
    "    expand_labels(labels_llm2) + \n",
    "    expand_labels(labels_llm3) +\n",
    "    expand_labels(labels_llm4) +\n",
    "    expand_labels(labels_llm5)\n",
    ") / 5"
   ]
  },
  {
   "cell_type": "code",
   "execution_count": 21,
   "metadata": {
    "execution": {
     "iopub.execute_input": "2025-05-16T14:31:01.831893Z",
     "iopub.status.busy": "2025-05-16T14:31:01.831588Z",
     "iopub.status.idle": "2025-05-16T14:33:22.195382Z",
     "shell.execute_reply": "2025-05-16T14:33:22.194376Z",
     "shell.execute_reply.started": "2025-05-16T14:31:01.831869Z"
    },
    "trusted": true
   },
   "outputs": [
    {
     "name": "stderr",
     "output_type": "stream",
     "text": [
      "/usr/local/lib/python3.10/dist-packages/sklearn/cluster/_kmeans.py:870: FutureWarning: The default value of `n_init` will change from 10 to 'auto' in 1.4. Set the value of `n_init` explicitly to suppress the warning\n",
      "  warnings.warn(\n"
     ]
    }
   ],
   "source": [
    "kmeans_consensus = KMeans(n_clusters=k, random_state=42)\n",
    "consensus_labels = kmeans_consensus.fit_predict(co_association)\n",
    "df['consensus_label'] = consensus_labels"
   ]
  },
  {
   "cell_type": "code",
   "execution_count": 23,
   "metadata": {
    "execution": {
     "iopub.execute_input": "2025-01-27T13:02:04.303508Z",
     "iopub.status.busy": "2025-01-27T13:02:04.303173Z",
     "iopub.status.idle": "2025-01-27T13:02:04.705248Z",
     "shell.execute_reply": "2025-01-27T13:02:04.704368Z",
     "shell.execute_reply.started": "2025-01-27T13:02:04.303454Z"
    },
    "trusted": true
   },
   "outputs": [
    {
     "data": {
      "image/png": "[encoded data removed]",
      "text/plain": [
       "<Figure size 800x600 with 2 Axes>"
      ]
     },
     "metadata": {},
     "output_type": "display_data"
    }
   ],
   "source": [
    "crosstab_matrix = pd.crosstab(df['label'], df['consensus_label'])\n",
    "plt.figure(figsize=(8, 6))\n",
    "sns.heatmap(crosstab_matrix, annot=True, fmt=\"d\", cmap=\"Blues\", \n",
    "            xticklabels=crosstab_matrix.columns, yticklabels=crosstab_matrix.index)\n",
    "plt.xlabel(\"consensus_label\")\n",
    "plt.ylabel(\"Label\")\n",
    "plt.title(\"Label vs consensus_label\")\n",
    "plt.show()"
   ]
  },
  {
   "cell_type": "code",
   "execution_count": 24,
   "metadata": {
    "execution": {
     "iopub.execute_input": "2025-01-27T13:02:19.124659Z",
     "iopub.status.busy": "2025-01-27T13:02:19.124315Z",
     "iopub.status.idle": "2025-01-27T13:02:19.137059Z",
     "shell.execute_reply": "2025-01-27T13:02:19.136080Z",
     "shell.execute_reply.started": "2025-01-27T13:02:19.124630Z"
    },
    "trusted": true
   },
   "outputs": [
    {
     "name": "stdout",
     "output_type": "stream",
     "text": [
      "0.9464912821144723\n"
     ]
    }
   ],
   "source": [
    "# Define the mapping (example mapping, adjust based on your data)\n",
    "label_to_consensus = {\n",
    "    '2013_Oklahoma_Tornado':0,\n",
    "    '2013_Boston_Bombings':1,\n",
    "    '2012_Sandy_Hurricane':2,\n",
    "    '2013_Queensland_Floods':3,\n",
    "    '2013_West_Texas_Explosion':4,\n",
    "    '2013_Alberta_Floods' :5\n",
    "}\n",
    "\n",
    "# Map 'label' column to corresponding string values\n",
    "df['label_mapped'] = df['label'].map(label_to_consensus)\n",
    "\n",
    "accuracy = sum(df['label_mapped'].values == df['consensus_label'].values) / len(df['label'])\n",
    "print(accuracy)"
   ]
  },
  {
   "cell_type": "code",
   "execution_count": 25,
   "metadata": {
    "execution": {
     "iopub.execute_input": "2025-01-06T10:10:18.751136Z",
     "iopub.status.busy": "2025-01-06T10:10:18.750832Z",
     "iopub.status.idle": "2025-01-06T10:10:18.760466Z",
     "shell.execute_reply": "2025-01-06T10:10:18.759432Z",
     "shell.execute_reply.started": "2025-01-06T10:10:18.751114Z"
    },
    "trusted": true
   },
   "outputs": [
    {
     "data": {
      "text/html": [
       "<div>\n",
       "<style scoped>\n",
       "    .dataframe tbody tr th:only-of-type {\n",
       "        vertical-align: middle;\n",
       "    }\n",
       "\n",
       "    .dataframe tbody tr th {\n",
       "        vertical-align: top;\n",
       "    }\n",
       "\n",
       "    .dataframe thead th {\n",
       "        text-align: right;\n",
       "    }\n",
       "</style>\n",
       "<table border=\"1\" class=\"dataframe\">\n",
       "  <thead>\n",
       "    <tr style=\"text-align: right;\">\n",
       "      <th>consensus_label</th>\n",
       "      <th>0</th>\n",
       "      <th>1</th>\n",
       "      <th>2</th>\n",
       "      <th>3</th>\n",
       "      <th>4</th>\n",
       "      <th>5</th>\n",
       "    </tr>\n",
       "    <tr>\n",
       "      <th>label</th>\n",
       "      <th></th>\n",
       "      <th></th>\n",
       "      <th></th>\n",
       "      <th></th>\n",
       "      <th></th>\n",
       "      <th></th>\n",
       "    </tr>\n",
       "  </thead>\n",
       "  <tbody>\n",
       "    <tr>\n",
       "      <th>2012_Sandy_Hurricane</th>\n",
       "      <td>70</td>\n",
       "      <td>6</td>\n",
       "      <td>5946</td>\n",
       "      <td>5</td>\n",
       "      <td>10</td>\n",
       "      <td>101</td>\n",
       "    </tr>\n",
       "    <tr>\n",
       "      <th>2013_Alberta_Floods</th>\n",
       "      <td>32</td>\n",
       "      <td>4</td>\n",
       "      <td>33</td>\n",
       "      <td>31</td>\n",
       "      <td>4</td>\n",
       "      <td>5085</td>\n",
       "    </tr>\n",
       "    <tr>\n",
       "      <th>2013_Boston_Bombings</th>\n",
       "      <td>29</td>\n",
       "      <td>5515</td>\n",
       "      <td>26</td>\n",
       "      <td>0</td>\n",
       "      <td>57</td>\n",
       "      <td>21</td>\n",
       "    </tr>\n",
       "    <tr>\n",
       "      <th>2013_Oklahoma_Tornado</th>\n",
       "      <td>4672</td>\n",
       "      <td>15</td>\n",
       "      <td>81</td>\n",
       "      <td>5</td>\n",
       "      <td>17</td>\n",
       "      <td>37</td>\n",
       "    </tr>\n",
       "    <tr>\n",
       "      <th>2013_Queensland_Floods</th>\n",
       "      <td>6</td>\n",
       "      <td>1</td>\n",
       "      <td>139</td>\n",
       "      <td>4697</td>\n",
       "      <td>405</td>\n",
       "      <td>166</td>\n",
       "    </tr>\n",
       "    <tr>\n",
       "      <th>2013_West_Texas_Explosion</th>\n",
       "      <td>39</td>\n",
       "      <td>363</td>\n",
       "      <td>20</td>\n",
       "      <td>0</td>\n",
       "      <td>4810</td>\n",
       "      <td>14</td>\n",
       "    </tr>\n",
       "  </tbody>\n",
       "</table>\n",
       "</div>"
      ],
      "text/plain": [
       "consensus_label               0     1     2     3     4     5\n",
       "label                                                        \n",
       "2012_Sandy_Hurricane         70     6  5946     5    10   101\n",
       "2013_Alberta_Floods          32     4    33    31     4  5085\n",
       "2013_Boston_Bombings         29  5515    26     0    57    21\n",
       "2013_Oklahoma_Tornado      4672    15    81     5    17    37\n",
       "2013_Queensland_Floods        6     1   139  4697   405   166\n",
       "2013_West_Texas_Explosion    39   363    20     0  4810    14"
      ]
     },
     "execution_count": 25,
     "metadata": {},
     "output_type": "execute_result"
    }
   ],
   "source": [
    "crosstab_matrix"
   ]
  },
  {
   "cell_type": "code",
   "execution_count": 22,
   "metadata": {
    "execution": {
     "iopub.execute_input": "2025-05-16T14:33:33.621802Z",
     "iopub.status.busy": "2025-05-16T14:33:33.621460Z",
     "iopub.status.idle": "2025-05-16T14:33:38.641815Z",
     "shell.execute_reply": "2025-05-16T14:33:38.640838Z",
     "shell.execute_reply.started": "2025-05-16T14:33:33.621773Z"
    },
    "trusted": true
   },
   "outputs": [
    {
     "name": "stderr",
     "output_type": "stream",
     "text": [
      "/usr/lib/python3.10/pty.py:89: RuntimeWarning: os.fork() was called. os.fork() is incompatible with multithreaded code, and JAX is multithreaded, so this will likely lead to a deadlock.\n",
      "  pid, fd = os.forkpty()\n"
     ]
    },
    {
     "name": "stdout",
     "output_type": "stream",
     "text": [
      "Requirement already satisfied: torch in /usr/local/lib/python3.10/dist-packages (2.4.1+cu121)\n",
      "Collecting torch-geometric\n",
      "  Downloading torch_geometric-2.6.1-py3-none-any.whl.metadata (63 kB)\n",
      "\u001b[2K     \u001b[90m━━━━━━━━━━━━━━━━━━━━━━━━━━━━━━━━━━━━━━━━\u001b[0m \u001b[32m63.1/63.1 kB\u001b[0m \u001b[31m4.1 MB/s\u001b[0m eta \u001b[36m0:00:00\u001b[0m\n",
      "\u001b[?25hRequirement already satisfied: pandas in /usr/local/lib/python3.10/dist-packages (2.1.4)\n",
      "Requirement already satisfied: scikit-learn in /usr/local/lib/python3.10/dist-packages (1.2.2)\n",
      "Requirement already satisfied: networkx in /usr/local/lib/python3.10/dist-packages (3.3)\n",
      "Requirement already satisfied: filelock in /usr/local/lib/python3.10/dist-packages (from torch) (3.16.1)\n",
      "Requirement already satisfied: typing-extensions>=4.8.0 in /usr/local/lib/python3.10/dist-packages (from torch) (4.12.2)\n",
      "Requirement already satisfied: sympy in /usr/local/lib/python3.10/dist-packages (from torch) (1.13.3)\n",
      "Requirement already satisfied: jinja2 in /usr/local/lib/python3.10/dist-packages (from torch) (3.1.4)\n",
      "Requirement already satisfied: fsspec in /usr/local/lib/python3.10/dist-packages (from torch) (2024.6.1)\n",
      "Requirement already satisfied: aiohttp in /usr/local/lib/python3.10/dist-packages (from torch-geometric) (3.10.5)\n",
      "Requirement already satisfied: numpy in /usr/local/lib/python3.10/dist-packages (from torch-geometric) (1.26.4)\n",
      "Requirement already satisfied: psutil>=5.8.0 in /usr/local/lib/python3.10/dist-packages (from torch-geometric) (5.9.5)\n",
      "Requirement already satisfied: pyparsing in /usr/local/lib/python3.10/dist-packages (from torch-geometric) (3.1.4)\n",
      "Requirement already satisfied: requests in /usr/local/lib/python3.10/dist-packages (from torch-geometric) (2.32.3)\n",
      "Requirement already satisfied: tqdm in /usr/local/lib/python3.10/dist-packages (from torch-geometric) (4.66.5)\n",
      "Requirement already satisfied: python-dateutil>=2.8.2 in /usr/local/lib/python3.10/dist-packages (from pandas) (2.8.2)\n",
      "Requirement already satisfied: pytz>=2020.1 in /usr/local/lib/python3.10/dist-packages (from pandas) (2024.2)\n",
      "Requirement already satisfied: tzdata>=2022.1 in /usr/local/lib/python3.10/dist-packages (from pandas) (2024.1)\n",
      "Requirement already satisfied: scipy>=1.3.2 in /usr/local/lib/python3.10/dist-packages (from scikit-learn) (1.13.1)\n",
      "Requirement already satisfied: joblib>=1.1.1 in /usr/local/lib/python3.10/dist-packages (from scikit-learn) (1.4.2)\n",
      "Requirement already satisfied: threadpoolctl>=2.0.0 in /usr/local/lib/python3.10/dist-packages (from scikit-learn) (3.5.0)\n",
      "Requirement already satisfied: six>=1.5 in /usr/local/lib/python3.10/dist-packages (from python-dateutil>=2.8.2->pandas) (1.16.0)\n",
      "Requirement already satisfied: aiohappyeyeballs>=2.3.0 in /usr/local/lib/python3.10/dist-packages (from aiohttp->torch-geometric) (2.4.0)\n",
      "Requirement already satisfied: aiosignal>=1.1.2 in /usr/local/lib/python3.10/dist-packages (from aiohttp->torch-geometric) (1.3.1)\n",
      "Requirement already satisfied: attrs>=17.3.0 in /usr/local/lib/python3.10/dist-packages (from aiohttp->torch-geometric) (24.2.0)\n",
      "Requirement already satisfied: frozenlist>=1.1.1 in /usr/local/lib/python3.10/dist-packages (from aiohttp->torch-geometric) (1.4.1)\n",
      "Requirement already satisfied: multidict<7.0,>=4.5 in /usr/local/lib/python3.10/dist-packages (from aiohttp->torch-geometric) (6.1.0)\n",
      "Requirement already satisfied: yarl<2.0,>=1.0 in /usr/local/lib/python3.10/dist-packages (from aiohttp->torch-geometric) (1.11.1)\n",
      "Requirement already satisfied: async-timeout<5.0,>=4.0 in /usr/local/lib/python3.10/dist-packages (from aiohttp->torch-geometric) (4.0.3)\n",
      "Requirement already satisfied: MarkupSafe>=2.0 in /usr/local/lib/python3.10/dist-packages (from jinja2->torch) (2.1.5)\n",
      "Requirement already satisfied: charset-normalizer<4,>=2 in /usr/local/lib/python3.10/dist-packages (from requests->torch-geometric) (3.3.2)\n",
      "Requirement already satisfied: idna<4,>=2.5 in /usr/local/lib/python3.10/dist-packages (from requests->torch-geometric) (3.10)\n",
      "Requirement already satisfied: urllib3<3,>=1.21.1 in /usr/local/lib/python3.10/dist-packages (from requests->torch-geometric) (2.2.3)\n",
      "Requirement already satisfied: certifi>=2017.4.17 in /usr/local/lib/python3.10/dist-packages (from requests->torch-geometric) (2024.8.30)\n",
      "Requirement already satisfied: mpmath<1.4,>=1.1.0 in /usr/local/lib/python3.10/dist-packages (from sympy->torch) (1.3.0)\n",
      "Downloading torch_geometric-2.6.1-py3-none-any.whl (1.1 MB)\n",
      "\u001b[2K   \u001b[90m━━━━━━━━━━━━━━━━━━━━━━━━━━━━━━━━━━━━━━━━\u001b[0m \u001b[32m1.1/1.1 MB\u001b[0m \u001b[31m45.6 MB/s\u001b[0m eta \u001b[36m0:00:00\u001b[0m\n",
      "\u001b[?25hInstalling collected packages: torch-geometric\n",
      "Successfully installed torch-geometric-2.6.1\n"
     ]
    }
   ],
   "source": [
    "!pip install torch torch-geometric pandas scikit-learn networkx"
   ]
  },
  {
   "cell_type": "code",
   "execution_count": 31,
   "metadata": {
    "execution": {
     "iopub.execute_input": "2025-05-16T14:47:14.652432Z",
     "iopub.status.busy": "2025-05-16T14:47:14.652065Z",
     "iopub.status.idle": "2025-05-16T14:50:17.003901Z",
     "shell.execute_reply": "2025-05-16T14:50:17.003159Z",
     "shell.execute_reply.started": "2025-05-16T14:47:14.652402Z"
    },
    "trusted": true
   },
   "outputs": [],
   "source": [
    "df['tweet']=df['tweet'].apply(preprocess_text)"
   ]
  },
  {
   "cell_type": "code",
   "execution_count": 17,
   "metadata": {
    "execution": {
     "iopub.execute_input": "2025-05-05T14:35:56.342987Z",
     "iopub.status.busy": "2025-05-05T14:35:56.342615Z",
     "iopub.status.idle": "2025-05-05T14:35:56.433139Z",
     "shell.execute_reply": "2025-05-05T14:35:56.432427Z",
     "shell.execute_reply.started": "2025-05-05T14:35:56.342958Z"
    },
    "trusted": true
   },
   "outputs": [],
   "source": [
    "df.to_csv(\"concensus_label.csv\")"
   ]
  },
  {
   "cell_type": "code",
   "execution_count": 18,
   "metadata": {
    "execution": {
     "iopub.execute_input": "2025-05-05T14:35:58.923011Z",
     "iopub.status.busy": "2025-05-05T14:35:58.922654Z",
     "iopub.status.idle": "2025-05-05T14:35:58.926438Z",
     "shell.execute_reply": "2025-05-05T14:35:58.925747Z",
     "shell.execute_reply.started": "2025-05-05T14:35:58.922986Z"
    },
    "trusted": true
   },
   "outputs": [],
   "source": [
    "import pandas as pd"
   ]
  },
  {
   "cell_type": "code",
   "execution_count": 32,
   "metadata": {
    "execution": {
     "iopub.execute_input": "2025-05-16T15:06:03.836985Z",
     "iopub.status.busy": "2025-05-16T15:06:03.836517Z",
     "iopub.status.idle": "2025-05-16T15:06:03.844398Z",
     "shell.execute_reply": "2025-05-16T15:06:03.843466Z",
     "shell.execute_reply.started": "2025-05-16T15:06:03.836955Z"
    },
    "trusted": true
   },
   "outputs": [],
   "source": [
    "# df=pd.read_csv(\"/kaggle/input/concensus-label/concensus_label.csv\")\n",
    "df['tweet']=df['tweet'].astype(str)"
   ]
  },
  {
   "cell_type": "code",
   "execution_count": 33,
   "metadata": {
    "execution": {
     "iopub.execute_input": "2025-05-16T15:06:07.125751Z",
     "iopub.status.busy": "2025-05-16T15:06:07.125456Z",
     "iopub.status.idle": "2025-05-16T15:06:07.129663Z",
     "shell.execute_reply": "2025-05-16T15:06:07.128761Z",
     "shell.execute_reply.started": "2025-05-16T15:06:07.125729Z"
    },
    "trusted": true
   },
   "outputs": [],
   "source": [
    "import torch\n",
    "torch.cuda.empty_cache()"
   ]
  },
  {
   "cell_type": "code",
   "execution_count": 34,
   "metadata": {
    "execution": {
     "iopub.execute_input": "2025-05-16T15:06:09.394622Z",
     "iopub.status.busy": "2025-05-16T15:06:09.394310Z",
     "iopub.status.idle": "2025-05-16T15:06:09.398388Z",
     "shell.execute_reply": "2025-05-16T15:06:09.397503Z",
     "shell.execute_reply.started": "2025-05-16T15:06:09.394598Z"
    },
    "trusted": true
   },
   "outputs": [],
   "source": [
    "topics=dict()"
   ]
  },
  {
   "cell_type": "code",
   "execution_count": 35,
   "metadata": {
    "execution": {
     "iopub.execute_input": "2025-05-16T15:06:59.819794Z",
     "iopub.status.busy": "2025-05-16T15:06:59.819477Z",
     "iopub.status.idle": "2025-05-16T15:06:59.827251Z",
     "shell.execute_reply": "2025-05-16T15:06:59.826234Z",
     "shell.execute_reply.started": "2025-05-16T15:06:59.819771Z"
    },
    "trusted": true
   },
   "outputs": [],
   "source": [
    "import torch\n",
    "import torch.nn.functional as F\n",
    "from torch_geometric.nn import GATConv, GCNConv\n",
    "from torch_geometric.nn import BatchNorm\n",
    "\n",
    "\n",
    "class KeywordGNN(torch.nn.Module):\n",
    "    def __init__(self, input_dim, hidden_dim, output_dim):\n",
    "        \"\"\"\n",
    "        Improved GNN model with attention and multi-layer architecture.\n",
    "        \n",
    "        Args:\n",
    "            input_dim (int): Dimension of input node features.\n",
    "            hidden_dim (int): Dimension of hidden layers.\n",
    "            output_dim (int): Dimension of output (1 for ranking scores).\n",
    "        \"\"\"\n",
    "        super().__init__()\n",
    "        # First Graph Attention Layer\n",
    "        self.conv1 = GATConv(input_dim, hidden_dim, heads=4, dropout=0.3, concat=True)\n",
    "        # Batch Normalization for Stable Training\n",
    "        self.bn1 = BatchNorm(hidden_dim * 4)  # Adjust for concatenation\n",
    "        # Second GAT Layer\n",
    "        self.conv2 = GATConv(hidden_dim * 4, hidden_dim, heads=1, dropout=0.3, concat=False)\n",
    "        # Batch Normalization\n",
    "        self.bn2 = BatchNorm(hidden_dim)\n",
    "        # Final Layer to Compute Scores\n",
    "        self.conv3 = GCNConv(hidden_dim, output_dim)\n",
    "\n",
    "    def forward(self, x, edge_index, edge_weight=None):\n",
    "        \"\"\"\n",
    "        Forward pass for GNN.\n",
    "\n",
    "        Args:\n",
    "            x (Tensor): Node features [num_nodes, input_dim].\n",
    "            edge_index (Tensor): Edge list [2, num_edges].\n",
    "            edge_weight (Tensor): Edge weights [num_edges].\n",
    "\n",
    "        Returns:\n",
    "            Tensor: Output scores for each node.\n",
    "        \"\"\"\n",
    "        # First Layer\n",
    "        x = self.conv1(x, edge_index, edge_weight)\n",
    "        x = F.relu(self.bn1(x))\n",
    "        x = F.dropout(x, p=0.3, training=self.training)\n",
    "\n",
    "        # Second Layer\n",
    "        x = self.conv2(x, edge_index, edge_weight)\n",
    "        x = F.relu(self.bn2(x))\n",
    "        x = F.dropout(x, p=0.3, training=self.training)\n",
    "\n",
    "        # Final Layer\n",
    "        x = self.conv3(x, edge_index, edge_weight)\n",
    "        return x\n"
   ]
  },
  {
   "cell_type": "code",
   "execution_count": 47,
   "metadata": {
    "execution": {
     "iopub.execute_input": "2025-05-16T15:53:08.113485Z",
     "iopub.status.busy": "2025-05-16T15:53:08.113088Z",
     "iopub.status.idle": "2025-05-16T15:53:08.128254Z",
     "shell.execute_reply": "2025-05-16T15:53:08.127276Z",
     "shell.execute_reply.started": "2025-05-16T15:53:08.113458Z"
    },
    "trusted": true
   },
   "outputs": [],
   "source": [
    "from sklearn.feature_extraction.text import CountVectorizer\n",
    "\n",
    "class TopicKeywordGNN:\n",
    "    def __init__(self, tweets_df, text_column='tweet', label_column='label', num_keywords=10):\n",
    "        self.tweets_df = tweets_df\n",
    "        self.text_column = text_column\n",
    "        self.label_column = label_column\n",
    "        self.num_keywords = num_keywords\n",
    "        self.model = None\n",
    "        self.optimizer = None\n",
    "        self.loss_function = None\n",
    "        self.first_group_saved = False\n",
    "\n",
    "    def _preprocess(self, text_data, label=None):\n",
    "        self.vectorizer = CountVectorizer(\n",
    "            max_features=1000,\n",
    "            ngram_range=(1, 1)\n",
    "        )\n",
    "        count_matrix = self.vectorizer.fit_transform(text_data)\n",
    "        self.feature_names = self.vectorizer.get_feature_names_out()\n",
    "        self.feature_matrix = count_matrix.toarray()\n",
    "\n",
    "        # Save for first group\n",
    "        if not self.first_group_saved and label is not None:\n",
    "            os.makedirs(\"output\", exist_ok=True)\n",
    "            np.save(f\"output/freq_matrix_{label}.npy\", self.feature_matrix)\n",
    "            pd.Series(self.feature_names).to_csv(f\"output/feature_names_{label}.csv\", index=False)\n",
    "            self.first_group_saved = True\n",
    "\n",
    "    def build_keyword_graph(self, label=None):\n",
    "        G = nx.Graph()\n",
    "        feature_to_index = {feature: idx for idx, feature in enumerate(self.feature_names)}\n",
    "\n",
    "        for idx, feature in enumerate(self.feature_names):\n",
    "            G.add_node(idx, feature=feature)\n",
    "\n",
    "        for doc in self.feature_matrix:\n",
    "            active_features = [self.feature_names[i] for i in np.where(doc > 0)[0]]  # just presence, no threshold\n",
    "            for i in range(len(active_features)):\n",
    "                for j in range(i + 1, len(active_features)):\n",
    "                    node_i = feature_to_index[active_features[i]]\n",
    "                    node_j = feature_to_index[active_features[j]]\n",
    "\n",
    "                    if G.has_edge(node_i, node_j):\n",
    "                        G[node_i][node_j]['weight'] += 1\n",
    "                    else:\n",
    "                        G.add_edge(node_i, node_j, weight=1)\n",
    "\n",
    "        if label is not None and not hasattr(self, 'first_graph_saved'):\n",
    "            nx.write_gml(G, f\"output/keyword_graph_{label}.gml\")\n",
    "            self.first_graph_saved = True\n",
    "\n",
    "        edge_index = torch.tensor(list(G.edges)).t().contiguous()\n",
    "        edge_weight = torch.tensor([G[u][v]['weight'] for u, v in G.edges], dtype=torch.float)\n",
    "        node_features = torch.eye(len(self.feature_names))\n",
    "        return Data(x=node_features, edge_index=edge_index, edge_attr=edge_weight)\n",
    "\n",
    "    def extract_topic_keywords(self, text_data, label=None, epochs=10):\n",
    "        self._preprocess(text_data, label=label)\n",
    "        graph_data = self.build_keyword_graph(label=label)\n",
    "\n",
    "        input_dim = graph_data.x.shape[1]\n",
    "        self.model = KeywordGNN(input_dim=input_dim, hidden_dim=64, output_dim=1)\n",
    "        self.optimizer = optim.Adam(self.model.parameters(), lr=0.001)\n",
    "        self.loss_function = torch.nn.MSELoss()\n",
    "\n",
    "        for epoch in range(epochs):\n",
    "            self.model.train()\n",
    "            self.optimizer.zero_grad()\n",
    "            outputs = self.model(graph_data.x, graph_data.edge_index, graph_data.edge_attr)\n",
    "            target = torch.ones_like(outputs)\n",
    "            loss = self.loss_function(outputs.squeeze(), target.squeeze())\n",
    "            loss.backward()\n",
    "            self.optimizer.step()\n",
    "            print(f\"Epoch {epoch + 1}/{epochs}, Loss: {loss.item()}\")\n",
    "\n",
    "        self.model.eval()\n",
    "        with torch.no_grad():\n",
    "            outputs = self.model(graph_data.x, graph_data.edge_index, graph_data.edge_attr)\n",
    "\n",
    "        keyword_scores = outputs.squeeze().numpy()\n",
    "        top_keyword_indices = keyword_scores.argsort()[-self.num_keywords:][::-1]\n",
    "        return [self.feature_names[i] for i in top_keyword_indices]\n",
    "\n",
    "    def extract_keywords_by_label(self):\n",
    "        label_groups = self.tweets_df.groupby(self.label_column)\n",
    "        keywords_by_label = {}\n",
    "\n",
    "        for label, group in label_groups:\n",
    "            print(f\"Processing label: {label}\")\n",
    "            top_keywords = self.extract_topic_keywords(group[self.text_column].tolist(), label=label, epochs=50)\n",
    "            keywords_by_label[label] = top_keywords\n",
    "\n",
    "        return keywords_by_label\n"
   ]
  },
  {
   "cell_type": "code",
   "execution_count": 48,
   "metadata": {
    "execution": {
     "iopub.execute_input": "2025-05-16T15:53:13.772037Z",
     "iopub.status.busy": "2025-05-16T15:53:13.771671Z",
     "iopub.status.idle": "2025-05-16T15:53:55.346034Z",
     "shell.execute_reply": "2025-05-16T15:53:55.345085Z",
     "shell.execute_reply.started": "2025-05-16T15:53:13.772002Z"
    },
    "trusted": true
   },
   "outputs": [
    {
     "name": "stdout",
     "output_type": "stream",
     "text": [
      "Processing label: 0\n",
      "Epoch 1/50, Loss: 1.696201205253601\n",
      "Epoch 2/50, Loss: 2.603499174118042\n",
      "Epoch 3/50, Loss: 3.9985926151275635\n",
      "Epoch 4/50, Loss: 7.973708629608154\n",
      "Epoch 5/50, Loss: 8.476630210876465\n",
      "Epoch 6/50, Loss: 3.083967685699463\n",
      "Epoch 7/50, Loss: 6.0784430503845215\n",
      "Epoch 8/50, Loss: 3.206448793411255\n",
      "Epoch 9/50, Loss: 1.4984854459762573\n",
      "Epoch 10/50, Loss: 1.1725051403045654\n",
      "Epoch 11/50, Loss: 2.7594010829925537\n",
      "Epoch 12/50, Loss: 1.1045558452606201\n",
      "Epoch 13/50, Loss: 2.9256527423858643\n",
      "Epoch 14/50, Loss: 1.5534298419952393\n",
      "Epoch 15/50, Loss: 3.0700199604034424\n",
      "Epoch 16/50, Loss: 1.5296862125396729\n",
      "Epoch 17/50, Loss: 4.994450092315674\n",
      "Epoch 18/50, Loss: 4.411035060882568\n",
      "Epoch 19/50, Loss: 1.7662934064865112\n",
      "Epoch 20/50, Loss: 1.4933665990829468\n",
      "Epoch 21/50, Loss: 1.922173023223877\n",
      "Epoch 22/50, Loss: 1.341864824295044\n",
      "Epoch 23/50, Loss: 1.7919635772705078\n",
      "Epoch 24/50, Loss: 0.8629856705665588\n",
      "Epoch 25/50, Loss: 1.3490029573440552\n",
      "Epoch 26/50, Loss: 1.3585045337677002\n",
      "Epoch 27/50, Loss: 1.0573371648788452\n",
      "Epoch 28/50, Loss: 4.228257179260254\n",
      "Epoch 29/50, Loss: 1.3988966941833496\n",
      "Epoch 30/50, Loss: 1.09807550907135\n",
      "Epoch 31/50, Loss: 1.2001261711120605\n",
      "Epoch 32/50, Loss: 3.560299873352051\n",
      "Epoch 33/50, Loss: 0.9879729747772217\n",
      "Epoch 34/50, Loss: 1.3697571754455566\n",
      "Epoch 35/50, Loss: 2.0987560749053955\n",
      "Epoch 36/50, Loss: 1.0602455139160156\n",
      "Epoch 37/50, Loss: 1.121231198310852\n",
      "Epoch 38/50, Loss: 2.3197405338287354\n",
      "Epoch 39/50, Loss: 0.8059203624725342\n",
      "Epoch 40/50, Loss: 1.5892550945281982\n",
      "Epoch 41/50, Loss: 0.7634523510932922\n",
      "Epoch 42/50, Loss: 1.3432819843292236\n",
      "Epoch 43/50, Loss: 1.3210176229476929\n",
      "Epoch 44/50, Loss: 1.289747953414917\n",
      "Epoch 45/50, Loss: 3.5100858211517334\n",
      "Epoch 46/50, Loss: 0.8622442483901978\n",
      "Epoch 47/50, Loss: 2.297466278076172\n",
      "Epoch 48/50, Loss: 1.49859619140625\n",
      "Epoch 49/50, Loss: 1.009039044380188\n",
      "Epoch 50/50, Loss: 0.7741503715515137\n",
      "Processing label: 1\n",
      "Epoch 1/50, Loss: 14.098247528076172\n",
      "Epoch 2/50, Loss: 9.971672058105469\n",
      "Epoch 3/50, Loss: 6.207767009735107\n",
      "Epoch 4/50, Loss: 3.6989450454711914\n",
      "Epoch 5/50, Loss: 4.360903739929199\n",
      "Epoch 6/50, Loss: 3.3671329021453857\n",
      "Epoch 7/50, Loss: 3.2839982509613037\n",
      "Epoch 8/50, Loss: 3.840775966644287\n",
      "Epoch 9/50, Loss: 4.165267467498779\n",
      "Epoch 10/50, Loss: 3.102539539337158\n",
      "Epoch 11/50, Loss: 2.7673940658569336\n",
      "Epoch 12/50, Loss: 2.3176801204681396\n",
      "Epoch 13/50, Loss: 2.192417860031128\n",
      "Epoch 14/50, Loss: 1.9688769578933716\n",
      "Epoch 15/50, Loss: 2.4762189388275146\n",
      "Epoch 16/50, Loss: 1.9380556344985962\n",
      "Epoch 17/50, Loss: 2.0589396953582764\n",
      "Epoch 18/50, Loss: 1.6487470865249634\n",
      "Epoch 19/50, Loss: 1.8028128147125244\n",
      "Epoch 20/50, Loss: 1.4407800436019897\n",
      "Epoch 21/50, Loss: 1.319430947303772\n",
      "Epoch 22/50, Loss: 1.584891438484192\n",
      "Epoch 23/50, Loss: 1.7081725597381592\n",
      "Epoch 24/50, Loss: 1.7468791007995605\n",
      "Epoch 25/50, Loss: 1.3234679698944092\n",
      "Epoch 26/50, Loss: 1.0620954036712646\n",
      "Epoch 27/50, Loss: 0.899459719657898\n",
      "Epoch 28/50, Loss: 1.7663531303405762\n",
      "Epoch 29/50, Loss: 1.93580961227417\n",
      "Epoch 30/50, Loss: 1.523376703262329\n",
      "Epoch 31/50, Loss: 0.9340242147445679\n",
      "Epoch 32/50, Loss: 1.0836013555526733\n",
      "Epoch 33/50, Loss: 1.144044280052185\n",
      "Epoch 34/50, Loss: 0.9134900569915771\n",
      "Epoch 35/50, Loss: 0.799297034740448\n",
      "Epoch 36/50, Loss: 0.9357044696807861\n",
      "Epoch 37/50, Loss: 0.8980767726898193\n",
      "Epoch 38/50, Loss: 1.3383562564849854\n",
      "Epoch 39/50, Loss: 1.2524099349975586\n",
      "Epoch 40/50, Loss: 1.4196466207504272\n",
      "Epoch 41/50, Loss: 0.7165454030036926\n",
      "Epoch 42/50, Loss: 0.8136765956878662\n",
      "Epoch 43/50, Loss: 0.6951152682304382\n",
      "Epoch 44/50, Loss: 1.1638360023498535\n",
      "Epoch 45/50, Loss: 0.7551208734512329\n",
      "Epoch 46/50, Loss: 1.008629322052002\n",
      "Epoch 47/50, Loss: 0.9267216920852661\n",
      "Epoch 48/50, Loss: 0.8998520374298096\n",
      "Epoch 49/50, Loss: 0.8305279612541199\n",
      "Epoch 50/50, Loss: 0.9659543633460999\n",
      "Processing label: 2\n",
      "Epoch 1/50, Loss: 7.392845630645752\n",
      "Epoch 2/50, Loss: 5.128662109375\n",
      "Epoch 3/50, Loss: 3.760211229324341\n",
      "Epoch 4/50, Loss: 3.854177474975586\n",
      "Epoch 5/50, Loss: 3.21357798576355\n",
      "Epoch 6/50, Loss: 2.669919967651367\n",
      "Epoch 7/50, Loss: 2.3012633323669434\n",
      "Epoch 8/50, Loss: 2.0783987045288086\n",
      "Epoch 9/50, Loss: 1.8450149297714233\n",
      "Epoch 10/50, Loss: 2.2002482414245605\n",
      "Epoch 11/50, Loss: 1.8469223976135254\n",
      "Epoch 12/50, Loss: 2.060316801071167\n",
      "Epoch 13/50, Loss: 1.0798767805099487\n",
      "Epoch 14/50, Loss: 1.5289969444274902\n",
      "Epoch 15/50, Loss: 1.446995735168457\n",
      "Epoch 16/50, Loss: 1.4091557264328003\n",
      "Epoch 17/50, Loss: 1.194240689277649\n",
      "Epoch 18/50, Loss: 1.8306937217712402\n",
      "Epoch 19/50, Loss: 1.7941503524780273\n",
      "Epoch 20/50, Loss: 1.9619208574295044\n",
      "Epoch 21/50, Loss: 1.192877173423767\n",
      "Epoch 22/50, Loss: 1.0486249923706055\n",
      "Epoch 23/50, Loss: 1.2713935375213623\n",
      "Epoch 24/50, Loss: 0.9813781976699829\n",
      "Epoch 25/50, Loss: 1.4436994791030884\n",
      "Epoch 26/50, Loss: 1.068914532661438\n",
      "Epoch 27/50, Loss: 1.1075100898742676\n",
      "Epoch 28/50, Loss: 1.0046635866165161\n",
      "Epoch 29/50, Loss: 1.0305286645889282\n",
      "Epoch 30/50, Loss: 1.0318446159362793\n",
      "Epoch 31/50, Loss: 0.9822396039962769\n",
      "Epoch 32/50, Loss: 0.7809785604476929\n",
      "Epoch 33/50, Loss: 0.9272671937942505\n",
      "Epoch 34/50, Loss: 0.877909779548645\n",
      "Epoch 35/50, Loss: 1.2105906009674072\n",
      "Epoch 36/50, Loss: 0.8859199285507202\n",
      "Epoch 37/50, Loss: 0.8410625457763672\n",
      "Epoch 38/50, Loss: 0.704651951789856\n",
      "Epoch 39/50, Loss: 0.8979386687278748\n",
      "Epoch 40/50, Loss: 0.6997111439704895\n",
      "Epoch 41/50, Loss: 0.6919668316841125\n",
      "Epoch 42/50, Loss: 0.6127695441246033\n",
      "Epoch 43/50, Loss: 0.7269111275672913\n",
      "Epoch 44/50, Loss: 0.6454742550849915\n",
      "Epoch 45/50, Loss: 0.8288358449935913\n",
      "Epoch 46/50, Loss: 0.7795342803001404\n",
      "Epoch 47/50, Loss: 0.681488573551178\n",
      "Epoch 48/50, Loss: 0.7739798426628113\n",
      "Epoch 49/50, Loss: 0.6707575917243958\n",
      "Epoch 50/50, Loss: 0.8765775561332703\n",
      "Processing label: 3\n",
      "Epoch 1/50, Loss: 6.598641395568848\n",
      "Epoch 2/50, Loss: 8.198270797729492\n",
      "Epoch 3/50, Loss: 10.667335510253906\n",
      "Epoch 4/50, Loss: 3.414249897003174\n",
      "Epoch 5/50, Loss: 4.889969825744629\n",
      "Epoch 6/50, Loss: 8.592886924743652\n",
      "Epoch 7/50, Loss: 4.270330905914307\n",
      "Epoch 8/50, Loss: 6.5992655754089355\n",
      "Epoch 9/50, Loss: 3.805610418319702\n",
      "Epoch 10/50, Loss: 1.4992027282714844\n",
      "Epoch 11/50, Loss: 1.4575845003128052\n",
      "Epoch 12/50, Loss: 1.951534390449524\n",
      "Epoch 13/50, Loss: 3.869736909866333\n",
      "Epoch 14/50, Loss: 1.561875343322754\n",
      "Epoch 15/50, Loss: 1.9223359823226929\n",
      "Epoch 16/50, Loss: 3.64540696144104\n",
      "Epoch 17/50, Loss: 1.5222491025924683\n",
      "Epoch 18/50, Loss: 2.388051986694336\n",
      "Epoch 19/50, Loss: 1.992063283920288\n",
      "Epoch 20/50, Loss: 2.3456013202667236\n",
      "Epoch 21/50, Loss: 1.5049585103988647\n",
      "Epoch 22/50, Loss: 1.3136489391326904\n",
      "Epoch 23/50, Loss: 3.314213514328003\n",
      "Epoch 24/50, Loss: 5.6082072257995605\n",
      "Epoch 25/50, Loss: 2.175910234451294\n",
      "Epoch 26/50, Loss: 3.551226854324341\n",
      "Epoch 27/50, Loss: 1.2566914558410645\n",
      "Epoch 28/50, Loss: 2.806015729904175\n",
      "Epoch 29/50, Loss: 2.2868616580963135\n",
      "Epoch 30/50, Loss: 1.5364304780960083\n",
      "Epoch 31/50, Loss: 2.2652931213378906\n",
      "Epoch 32/50, Loss: 2.062809467315674\n",
      "Epoch 33/50, Loss: 1.2758325338363647\n",
      "Epoch 34/50, Loss: 1.455890417098999\n",
      "Epoch 35/50, Loss: 0.9545264840126038\n",
      "Epoch 36/50, Loss: 0.8874351978302002\n",
      "Epoch 37/50, Loss: 2.0919816493988037\n",
      "Epoch 38/50, Loss: 3.444119691848755\n",
      "Epoch 39/50, Loss: 0.9545506834983826\n",
      "Epoch 40/50, Loss: 2.9409210681915283\n",
      "Epoch 41/50, Loss: 1.0850108861923218\n",
      "Epoch 42/50, Loss: 0.6956632733345032\n",
      "Epoch 43/50, Loss: 1.0690985918045044\n",
      "Epoch 44/50, Loss: 1.0422844886779785\n",
      "Epoch 45/50, Loss: 0.47489726543426514\n",
      "Epoch 46/50, Loss: 1.6285486221313477\n",
      "Epoch 47/50, Loss: 1.693863034248352\n",
      "Epoch 48/50, Loss: 0.8382198214530945\n",
      "Epoch 49/50, Loss: 2.2102673053741455\n",
      "Epoch 50/50, Loss: 0.5676661729812622\n",
      "Processing label: 4\n",
      "Epoch 1/50, Loss: 2.306170701980591\n",
      "Epoch 2/50, Loss: 1.8526511192321777\n",
      "Epoch 3/50, Loss: 1.3047266006469727\n",
      "Epoch 4/50, Loss: 1.0907973051071167\n",
      "Epoch 5/50, Loss: 1.403854250907898\n",
      "Epoch 6/50, Loss: 1.34788978099823\n",
      "Epoch 7/50, Loss: 1.3685848712921143\n",
      "Epoch 8/50, Loss: 0.9058971405029297\n",
      "Epoch 9/50, Loss: 0.875129222869873\n",
      "Epoch 10/50, Loss: 0.8499704003334045\n",
      "Epoch 11/50, Loss: 0.9242275953292847\n",
      "Epoch 12/50, Loss: 0.8534359931945801\n",
      "Epoch 13/50, Loss: 1.843374490737915\n",
      "Epoch 14/50, Loss: 0.9346439242362976\n",
      "Epoch 15/50, Loss: 0.769938051700592\n",
      "Epoch 16/50, Loss: 0.7323145866394043\n",
      "Epoch 17/50, Loss: 0.8587361574172974\n",
      "Epoch 18/50, Loss: 0.9135447144508362\n",
      "Epoch 19/50, Loss: 0.8319659233093262\n",
      "Epoch 20/50, Loss: 0.8327454328536987\n",
      "Epoch 21/50, Loss: 0.8259286284446716\n",
      "Epoch 22/50, Loss: 0.8499067425727844\n",
      "Epoch 23/50, Loss: 0.7626519203186035\n",
      "Epoch 24/50, Loss: 0.944567859172821\n",
      "Epoch 25/50, Loss: 0.8601263761520386\n",
      "Epoch 26/50, Loss: 1.0619360208511353\n",
      "Epoch 27/50, Loss: 0.7917075753211975\n",
      "Epoch 28/50, Loss: 0.855126142501831\n",
      "Epoch 29/50, Loss: 0.9749401807785034\n",
      "Epoch 30/50, Loss: 0.8332568407058716\n",
      "Epoch 31/50, Loss: 0.6695878505706787\n",
      "Epoch 32/50, Loss: 0.7649226784706116\n",
      "Epoch 33/50, Loss: 0.7730618715286255\n",
      "Epoch 34/50, Loss: 0.843102216720581\n",
      "Epoch 35/50, Loss: 0.8108062744140625\n",
      "Epoch 36/50, Loss: 0.8558676838874817\n",
      "Epoch 37/50, Loss: 0.7014021873474121\n",
      "Epoch 38/50, Loss: 0.5629281401634216\n",
      "Epoch 39/50, Loss: 0.9062002897262573\n",
      "Epoch 40/50, Loss: 0.727825939655304\n",
      "Epoch 41/50, Loss: 0.7287228107452393\n",
      "Epoch 42/50, Loss: 0.9390477538108826\n",
      "Epoch 43/50, Loss: 0.6532424092292786\n",
      "Epoch 44/50, Loss: 0.7235276699066162\n",
      "Epoch 45/50, Loss: 0.6281645894050598\n",
      "Epoch 46/50, Loss: 0.5564416646957397\n",
      "Epoch 47/50, Loss: 0.6855941414833069\n",
      "Epoch 48/50, Loss: 0.7226921916007996\n",
      "Epoch 49/50, Loss: 0.7295348048210144\n",
      "Epoch 50/50, Loss: 0.5767694115638733\n",
      "Processing label: 5\n",
      "Epoch 1/50, Loss: 13.106792449951172\n",
      "Epoch 2/50, Loss: 15.806594848632812\n",
      "Epoch 3/50, Loss: 6.581225395202637\n",
      "Epoch 4/50, Loss: 6.805421829223633\n",
      "Epoch 5/50, Loss: 5.588284015655518\n",
      "Epoch 6/50, Loss: 4.685456275939941\n",
      "Epoch 7/50, Loss: 4.712319850921631\n",
      "Epoch 8/50, Loss: 3.201272487640381\n",
      "Epoch 9/50, Loss: 3.6119325160980225\n",
      "Epoch 10/50, Loss: 6.859058380126953\n",
      "Epoch 11/50, Loss: 2.635192632675171\n",
      "Epoch 12/50, Loss: 4.383392810821533\n",
      "Epoch 13/50, Loss: 2.5967397689819336\n",
      "Epoch 14/50, Loss: 2.407802104949951\n",
      "Epoch 15/50, Loss: 2.3947031497955322\n",
      "Epoch 16/50, Loss: 3.038179636001587\n",
      "Epoch 17/50, Loss: 2.4389536380767822\n",
      "Epoch 18/50, Loss: 2.6585581302642822\n",
      "Epoch 19/50, Loss: 2.7656660079956055\n",
      "Epoch 20/50, Loss: 1.980841040611267\n",
      "Epoch 21/50, Loss: 1.8174210786819458\n",
      "Epoch 22/50, Loss: 2.0000054836273193\n",
      "Epoch 23/50, Loss: 1.9330437183380127\n",
      "Epoch 24/50, Loss: 2.44191837310791\n",
      "Epoch 25/50, Loss: 1.4813601970672607\n",
      "Epoch 26/50, Loss: 1.6827174425125122\n",
      "Epoch 27/50, Loss: 2.08825421333313\n",
      "Epoch 28/50, Loss: 1.9073026180267334\n",
      "Epoch 29/50, Loss: 1.3718245029449463\n",
      "Epoch 30/50, Loss: 1.1960935592651367\n",
      "Epoch 31/50, Loss: 1.8629482984542847\n",
      "Epoch 32/50, Loss: 1.1635117530822754\n",
      "Epoch 33/50, Loss: 1.279312252998352\n",
      "Epoch 34/50, Loss: 1.8356211185455322\n",
      "Epoch 35/50, Loss: 1.976833462715149\n",
      "Epoch 36/50, Loss: 1.1329838037490845\n",
      "Epoch 37/50, Loss: 1.0798466205596924\n",
      "Epoch 38/50, Loss: 1.1586003303527832\n",
      "Epoch 39/50, Loss: 1.2557235956192017\n",
      "Epoch 40/50, Loss: 1.3628276586532593\n",
      "Epoch 41/50, Loss: 0.9410267472267151\n",
      "Epoch 42/50, Loss: 0.8892266750335693\n",
      "Epoch 43/50, Loss: 1.2008137702941895\n",
      "Epoch 44/50, Loss: 0.8621829152107239\n",
      "Epoch 45/50, Loss: 1.285419225692749\n",
      "Epoch 46/50, Loss: 1.2445060014724731\n",
      "Epoch 47/50, Loss: 1.2701549530029297\n",
      "Epoch 48/50, Loss: 1.0661402940750122\n",
      "Epoch 49/50, Loss: 1.1479005813598633\n",
      "Epoch 50/50, Loss: 1.9882419109344482\n",
      "Label 0: ['flood', 'edi', 'queensland', 'cotton', 'field', 'affect', 'area', 'flash', 'grower', 'coalition']\n",
      "Label 1: ['hurricane', 'sandy', 'frankenstorm', 'power', 'storm', 'people', 'hope', 'think', 'safe', 'coast']\n",
      "Label 2: ['boston', 'marathon', 'suspect', 'bombing', 'prayforboston', 'tragedy', 'bomb', 'prayer', 'people', 'think']\n",
      "Label 3: ['yycflood', 'flood', 'bigwet', 'yyc', 'calgary', 'alberta', 'water', 'coast', 'help', 'river']\n",
      "Label 4: ['explosion', 'texas', 'west', 'plant', 'fertilizer', 'westtx', 'westexplosion', 'waco', 'video', 'people']\n",
      "Label 5: ['tornado', 'oklahoma', 'crowd', 'entire', 'prayer', 'moore', 'think', 'victim', 'help', 'pray']\n"
     ]
    }
   ],
   "source": [
    "def main():\n",
    "    # Assuming `df` is your DataFrame with columns 'tweet' and 'Cluster'\n",
    "    extractor = TopicKeywordGNN(df, text_column='tweet', label_column='consensus_label')\n",
    "    keywords_by_label = extractor.extract_keywords_by_label()\n",
    "\n",
    "    for label, keywords in keywords_by_label.items():\n",
    "        print(f\"Label {label}: {keywords}\")\n",
    "        topics[label]=keywords\n",
    "\n",
    "if __name__ == \"__main__\":\n",
    "    main()\n"
   ]
  },
  {
   "cell_type": "code",
   "execution_count": 42,
   "metadata": {
    "execution": {
     "iopub.execute_input": "2025-01-06T10:48:18.918042Z",
     "iopub.status.busy": "2025-01-06T10:48:18.917754Z",
     "iopub.status.idle": "2025-01-06T10:48:18.939095Z",
     "shell.execute_reply": "2025-01-06T10:48:18.938187Z",
     "shell.execute_reply.started": "2025-01-06T10:48:18.918022Z"
    },
    "trusted": true
   },
   "outputs": [
    {
     "name": "stdout",
     "output_type": "stream",
     "text": [
      "Accuracy: 0.9465\n",
      "Precision: 0.9476\n",
      "F1 Score: 0.9462\n"
     ]
    }
   ],
   "source": [
    "from sklearn.metrics import precision_score, accuracy_score, f1_score\n",
    "\n",
    "# Mapping from numerical topic labels to string labels\n",
    "topic_label_mapping = {\n",
    "    2: '2012_Sandy_Hurricane', \n",
    "    1: '2013_Boston_Bombings',\n",
    "    4: '2013_West_Texas_Explosion',\n",
    "    3: '2013_Queensland_Floods',\n",
    "    5: '2013_Alberta_Floods',\n",
    "    0: '2013_Oklahoma_Tornado'\n",
    "}\n",
    "\n",
    "# Reverse mapping for string to numerical topic if needed for evaluation\n",
    "string_to_topic_mapping = {v: k for k, v in topic_label_mapping.items()}\n",
    "\n",
    "# # Map assigned topic numbers to string labels\n",
    "# df['assigned_topic_label'] = df['assigned_topic'].map(topic_label_mapping)\n",
    "\n",
    "# Map true labels to their numerical topic\n",
    "df['true_topic_label'] = df['label'].map(string_to_topic_mapping)\n",
    "\n",
    "# Calculate Accuracy\n",
    "accuracy = accuracy_score(df['true_topic_label'], df['consensus_label'])\n",
    "print(f\"Accuracy: {accuracy:.4f}\")\n",
    "\n",
    "# Calculate Precision (weighted for multiclass classification)\n",
    "precision = precision_score(df['true_topic_label'], df['consensus_label'], average='weighted')\n",
    "print(f\"Precision: {precision:.4f}\")\n",
    "\n",
    "# Calculate F1 Score (weighted for multiclass classification)\n",
    "f1 = f1_score(df['true_topic_label'], df['consensus_label'], average='weighted')\n",
    "print(f\"F1 Score: {f1:.4f}\")\n"
   ]
  }
 ],
 "metadata": {
  "kaggle": {
   "accelerator": "gpu",
   "dataSources": [
    {
     "datasetId": 6128383,
     "sourceId": 9962836,
     "sourceType": "datasetVersion"
    },
    {
     "datasetId": 6556847,
     "sourceId": 10593749,
     "sourceType": "datasetVersion"
    }
   ],
   "dockerImageVersionId": 30822,
   "isGpuEnabled": true,
   "isInternetEnabled": true,
   "language": "python",
   "sourceType": "notebook"
  },
  "kernelspec": {
   "display_name": "Python 3",
   "language": "python",
   "name": "python3"
  },
  "language_info": {
   "codemirror_mode": {
    "name": "ipython",
    "version": 3
   },
   "file_extension": ".py",
   "mimetype": "text/x-python",
   "name": "python",
   "nbconvert_exporter": "python",
   "pygments_lexer": "ipython3",
   "version": "3.10.12"
  }
 },
 "nbformat": 4,
 "nbformat_minor": 4
}
